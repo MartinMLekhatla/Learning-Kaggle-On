{
 "cells": [
  {
   "cell_type": "markdown",
   "id": "cbe0c1a5",
   "metadata": {
    "papermill": {
     "duration": 0.011043,
     "end_time": "2023-01-09T15:37:47.844646",
     "exception": false,
     "start_time": "2023-01-09T15:37:47.833603",
     "status": "completed"
    },
    "tags": []
   },
   "source": [
    "**This notebook is an exercise in the [Intermediate Machine Learning](https://www.kaggle.com/learn/intermediate-machine-learning) course.  You can reference the tutorial at [this link](https://www.kaggle.com/alexisbcook/missing-values).**\n",
    "\n",
    "---\n"
   ]
  },
  {
   "cell_type": "markdown",
   "id": "14b17f0c",
   "metadata": {
    "papermill": {
     "duration": 0.009076,
     "end_time": "2023-01-09T15:37:47.863862",
     "exception": false,
     "start_time": "2023-01-09T15:37:47.854786",
     "status": "completed"
    },
    "tags": []
   },
   "source": [
    "Now it's your turn to test your new knowledge of **missing values** handling. You'll probably find it makes a big difference.\n",
    "\n",
    "# Setup\n",
    "\n",
    "The questions will give you feedback on your work. Run the following cell to set up the feedback system."
   ]
  },
  {
   "cell_type": "code",
   "execution_count": 1,
   "id": "577b3569",
   "metadata": {
    "execution": {
     "iopub.execute_input": "2023-01-09T15:37:47.885005Z",
     "iopub.status.busy": "2023-01-09T15:37:47.884514Z",
     "iopub.status.idle": "2023-01-09T15:37:47.939306Z",
     "shell.execute_reply": "2023-01-09T15:37:47.938147Z"
    },
    "papermill": {
     "duration": 0.069457,
     "end_time": "2023-01-09T15:37:47.942827",
     "exception": false,
     "start_time": "2023-01-09T15:37:47.873370",
     "status": "completed"
    },
    "tags": []
   },
   "outputs": [
    {
     "name": "stdout",
     "output_type": "stream",
     "text": [
      "Setup Complete\n"
     ]
    }
   ],
   "source": [
    "# Set up code checking\n",
    "import os\n",
    "if not os.path.exists(\"../input/train.csv\"):\n",
    "    os.symlink(\"../input/home-data-for-ml-course/train.csv\", \"../input/train.csv\")  \n",
    "    os.symlink(\"../input/home-data-for-ml-course/test.csv\", \"../input/test.csv\") \n",
    "from learntools.core import binder\n",
    "binder.bind(globals())\n",
    "from learntools.ml_intermediate.ex2 import *\n",
    "print(\"Setup Complete\")"
   ]
  },
  {
   "cell_type": "markdown",
   "id": "7bd473f0",
   "metadata": {
    "papermill": {
     "duration": 0.009739,
     "end_time": "2023-01-09T15:37:47.962736",
     "exception": false,
     "start_time": "2023-01-09T15:37:47.952997",
     "status": "completed"
    },
    "tags": []
   },
   "source": [
    "In this exercise, you will work with data from the [Housing Prices Competition for Kaggle Learn Users](https://www.kaggle.com/c/home-data-for-ml-course). \n",
    "\n",
    "![Ames Housing dataset image](https://i.imgur.com/lTJVG4e.png)\n",
    "\n",
    "Run the next code cell without changes to load the training and validation sets in `X_train`, `X_valid`, `y_train`, and `y_valid`.  The test set is loaded in `X_test`."
   ]
  },
  {
   "cell_type": "code",
   "execution_count": 2,
   "id": "8e590d79",
   "metadata": {
    "execution": {
     "iopub.execute_input": "2023-01-09T15:37:47.988396Z",
     "iopub.status.busy": "2023-01-09T15:37:47.987469Z",
     "iopub.status.idle": "2023-01-09T15:37:49.423683Z",
     "shell.execute_reply": "2023-01-09T15:37:49.422433Z"
    },
    "papermill": {
     "duration": 1.450719,
     "end_time": "2023-01-09T15:37:49.426527",
     "exception": false,
     "start_time": "2023-01-09T15:37:47.975808",
     "status": "completed"
    },
    "tags": []
   },
   "outputs": [],
   "source": [
    "import pandas as pd\n",
    "from sklearn.model_selection import train_test_split\n",
    "\n",
    "# Read the data\n",
    "X_full = pd.read_csv('../input/train.csv', index_col='Id')\n",
    "X_test_full = pd.read_csv('../input/test.csv', index_col='Id')\n",
    "\n",
    "# Remove rows with missing target, separate target from predictors\n",
    "X_full.dropna(axis=0, subset=['SalePrice'], inplace=True)\n",
    "y = X_full.SalePrice\n",
    "X_full.drop(['SalePrice'], axis=1, inplace=True)\n",
    "\n",
    "# To keep things simple, we'll use only numerical predictors\n",
    "X = X_full.select_dtypes(exclude=['object'])\n",
    "X_test = X_test_full.select_dtypes(exclude=['object'])\n",
    "\n",
    "# Break off validation set from training data\n",
    "X_train, X_valid, y_train, y_valid = train_test_split(X, y, train_size=0.8, test_size=0.2,\n",
    "                                                      random_state=0)"
   ]
  },
  {
   "cell_type": "markdown",
   "id": "d2f6ce86",
   "metadata": {
    "papermill": {
     "duration": 0.009305,
     "end_time": "2023-01-09T15:37:49.445900",
     "exception": false,
     "start_time": "2023-01-09T15:37:49.436595",
     "status": "completed"
    },
    "tags": []
   },
   "source": [
    "Use the next code cell to print the first five rows of the data."
   ]
  },
  {
   "cell_type": "code",
   "execution_count": 3,
   "id": "1fa1b257",
   "metadata": {
    "execution": {
     "iopub.execute_input": "2023-01-09T15:37:49.466662Z",
     "iopub.status.busy": "2023-01-09T15:37:49.466206Z",
     "iopub.status.idle": "2023-01-09T15:37:49.496386Z",
     "shell.execute_reply": "2023-01-09T15:37:49.495506Z"
    },
    "papermill": {
     "duration": 0.043557,
     "end_time": "2023-01-09T15:37:49.498990",
     "exception": false,
     "start_time": "2023-01-09T15:37:49.455433",
     "status": "completed"
    },
    "tags": []
   },
   "outputs": [
    {
     "data": {
      "text/html": [
       "<div>\n",
       "<style scoped>\n",
       "    .dataframe tbody tr th:only-of-type {\n",
       "        vertical-align: middle;\n",
       "    }\n",
       "\n",
       "    .dataframe tbody tr th {\n",
       "        vertical-align: top;\n",
       "    }\n",
       "\n",
       "    .dataframe thead th {\n",
       "        text-align: right;\n",
       "    }\n",
       "</style>\n",
       "<table border=\"1\" class=\"dataframe\">\n",
       "  <thead>\n",
       "    <tr style=\"text-align: right;\">\n",
       "      <th></th>\n",
       "      <th>MSSubClass</th>\n",
       "      <th>LotFrontage</th>\n",
       "      <th>LotArea</th>\n",
       "      <th>OverallQual</th>\n",
       "      <th>OverallCond</th>\n",
       "      <th>YearBuilt</th>\n",
       "      <th>YearRemodAdd</th>\n",
       "      <th>MasVnrArea</th>\n",
       "      <th>BsmtFinSF1</th>\n",
       "      <th>BsmtFinSF2</th>\n",
       "      <th>...</th>\n",
       "      <th>GarageArea</th>\n",
       "      <th>WoodDeckSF</th>\n",
       "      <th>OpenPorchSF</th>\n",
       "      <th>EnclosedPorch</th>\n",
       "      <th>3SsnPorch</th>\n",
       "      <th>ScreenPorch</th>\n",
       "      <th>PoolArea</th>\n",
       "      <th>MiscVal</th>\n",
       "      <th>MoSold</th>\n",
       "      <th>YrSold</th>\n",
       "    </tr>\n",
       "    <tr>\n",
       "      <th>Id</th>\n",
       "      <th></th>\n",
       "      <th></th>\n",
       "      <th></th>\n",
       "      <th></th>\n",
       "      <th></th>\n",
       "      <th></th>\n",
       "      <th></th>\n",
       "      <th></th>\n",
       "      <th></th>\n",
       "      <th></th>\n",
       "      <th></th>\n",
       "      <th></th>\n",
       "      <th></th>\n",
       "      <th></th>\n",
       "      <th></th>\n",
       "      <th></th>\n",
       "      <th></th>\n",
       "      <th></th>\n",
       "      <th></th>\n",
       "      <th></th>\n",
       "      <th></th>\n",
       "    </tr>\n",
       "  </thead>\n",
       "  <tbody>\n",
       "    <tr>\n",
       "      <th>619</th>\n",
       "      <td>20</td>\n",
       "      <td>90.0</td>\n",
       "      <td>11694</td>\n",
       "      <td>9</td>\n",
       "      <td>5</td>\n",
       "      <td>2007</td>\n",
       "      <td>2007</td>\n",
       "      <td>452.0</td>\n",
       "      <td>48</td>\n",
       "      <td>0</td>\n",
       "      <td>...</td>\n",
       "      <td>774</td>\n",
       "      <td>0</td>\n",
       "      <td>108</td>\n",
       "      <td>0</td>\n",
       "      <td>0</td>\n",
       "      <td>260</td>\n",
       "      <td>0</td>\n",
       "      <td>0</td>\n",
       "      <td>7</td>\n",
       "      <td>2007</td>\n",
       "    </tr>\n",
       "    <tr>\n",
       "      <th>871</th>\n",
       "      <td>20</td>\n",
       "      <td>60.0</td>\n",
       "      <td>6600</td>\n",
       "      <td>5</td>\n",
       "      <td>5</td>\n",
       "      <td>1962</td>\n",
       "      <td>1962</td>\n",
       "      <td>0.0</td>\n",
       "      <td>0</td>\n",
       "      <td>0</td>\n",
       "      <td>...</td>\n",
       "      <td>308</td>\n",
       "      <td>0</td>\n",
       "      <td>0</td>\n",
       "      <td>0</td>\n",
       "      <td>0</td>\n",
       "      <td>0</td>\n",
       "      <td>0</td>\n",
       "      <td>0</td>\n",
       "      <td>8</td>\n",
       "      <td>2009</td>\n",
       "    </tr>\n",
       "    <tr>\n",
       "      <th>93</th>\n",
       "      <td>30</td>\n",
       "      <td>80.0</td>\n",
       "      <td>13360</td>\n",
       "      <td>5</td>\n",
       "      <td>7</td>\n",
       "      <td>1921</td>\n",
       "      <td>2006</td>\n",
       "      <td>0.0</td>\n",
       "      <td>713</td>\n",
       "      <td>0</td>\n",
       "      <td>...</td>\n",
       "      <td>432</td>\n",
       "      <td>0</td>\n",
       "      <td>0</td>\n",
       "      <td>44</td>\n",
       "      <td>0</td>\n",
       "      <td>0</td>\n",
       "      <td>0</td>\n",
       "      <td>0</td>\n",
       "      <td>8</td>\n",
       "      <td>2009</td>\n",
       "    </tr>\n",
       "    <tr>\n",
       "      <th>818</th>\n",
       "      <td>20</td>\n",
       "      <td>NaN</td>\n",
       "      <td>13265</td>\n",
       "      <td>8</td>\n",
       "      <td>5</td>\n",
       "      <td>2002</td>\n",
       "      <td>2002</td>\n",
       "      <td>148.0</td>\n",
       "      <td>1218</td>\n",
       "      <td>0</td>\n",
       "      <td>...</td>\n",
       "      <td>857</td>\n",
       "      <td>150</td>\n",
       "      <td>59</td>\n",
       "      <td>0</td>\n",
       "      <td>0</td>\n",
       "      <td>0</td>\n",
       "      <td>0</td>\n",
       "      <td>0</td>\n",
       "      <td>7</td>\n",
       "      <td>2008</td>\n",
       "    </tr>\n",
       "    <tr>\n",
       "      <th>303</th>\n",
       "      <td>20</td>\n",
       "      <td>118.0</td>\n",
       "      <td>13704</td>\n",
       "      <td>7</td>\n",
       "      <td>5</td>\n",
       "      <td>2001</td>\n",
       "      <td>2002</td>\n",
       "      <td>150.0</td>\n",
       "      <td>0</td>\n",
       "      <td>0</td>\n",
       "      <td>...</td>\n",
       "      <td>843</td>\n",
       "      <td>468</td>\n",
       "      <td>81</td>\n",
       "      <td>0</td>\n",
       "      <td>0</td>\n",
       "      <td>0</td>\n",
       "      <td>0</td>\n",
       "      <td>0</td>\n",
       "      <td>1</td>\n",
       "      <td>2006</td>\n",
       "    </tr>\n",
       "  </tbody>\n",
       "</table>\n",
       "<p>5 rows × 36 columns</p>\n",
       "</div>"
      ],
      "text/plain": [
       "     MSSubClass  LotFrontage  LotArea  OverallQual  OverallCond  YearBuilt  \\\n",
       "Id                                                                           \n",
       "619          20         90.0    11694            9            5       2007   \n",
       "871          20         60.0     6600            5            5       1962   \n",
       "93           30         80.0    13360            5            7       1921   \n",
       "818          20          NaN    13265            8            5       2002   \n",
       "303          20        118.0    13704            7            5       2001   \n",
       "\n",
       "     YearRemodAdd  MasVnrArea  BsmtFinSF1  BsmtFinSF2  ...  GarageArea  \\\n",
       "Id                                                     ...               \n",
       "619          2007       452.0          48           0  ...         774   \n",
       "871          1962         0.0           0           0  ...         308   \n",
       "93           2006         0.0         713           0  ...         432   \n",
       "818          2002       148.0        1218           0  ...         857   \n",
       "303          2002       150.0           0           0  ...         843   \n",
       "\n",
       "     WoodDeckSF  OpenPorchSF  EnclosedPorch  3SsnPorch  ScreenPorch  PoolArea  \\\n",
       "Id                                                                              \n",
       "619           0          108              0          0          260         0   \n",
       "871           0            0              0          0            0         0   \n",
       "93            0            0             44          0            0         0   \n",
       "818         150           59              0          0            0         0   \n",
       "303         468           81              0          0            0         0   \n",
       "\n",
       "     MiscVal  MoSold  YrSold  \n",
       "Id                            \n",
       "619        0       7    2007  \n",
       "871        0       8    2009  \n",
       "93         0       8    2009  \n",
       "818        0       7    2008  \n",
       "303        0       1    2006  \n",
       "\n",
       "[5 rows x 36 columns]"
      ]
     },
     "execution_count": 3,
     "metadata": {},
     "output_type": "execute_result"
    }
   ],
   "source": [
    "X_train.head()"
   ]
  },
  {
   "cell_type": "markdown",
   "id": "51b09a2c",
   "metadata": {
    "papermill": {
     "duration": 0.009236,
     "end_time": "2023-01-09T15:37:49.517890",
     "exception": false,
     "start_time": "2023-01-09T15:37:49.508654",
     "status": "completed"
    },
    "tags": []
   },
   "source": [
    "You can already see a few missing values in the first several rows.  In the next step, you'll obtain a more comprehensive understanding of the missing values in the dataset.\n",
    "\n",
    "# Step 1: Preliminary investigation\n",
    "\n",
    "Run the code cell below without changes."
   ]
  },
  {
   "cell_type": "code",
   "execution_count": 4,
   "id": "2b457ffe",
   "metadata": {
    "execution": {
     "iopub.execute_input": "2023-01-09T15:37:49.539851Z",
     "iopub.status.busy": "2023-01-09T15:37:49.539073Z",
     "iopub.status.idle": "2023-01-09T15:37:49.548807Z",
     "shell.execute_reply": "2023-01-09T15:37:49.547134Z"
    },
    "papermill": {
     "duration": 0.024646,
     "end_time": "2023-01-09T15:37:49.552280",
     "exception": false,
     "start_time": "2023-01-09T15:37:49.527634",
     "status": "completed"
    },
    "tags": []
   },
   "outputs": [
    {
     "name": "stdout",
     "output_type": "stream",
     "text": [
      "(1168, 36)\n",
      "LotFrontage    212\n",
      "MasVnrArea       6\n",
      "GarageYrBlt     58\n",
      "dtype: int64\n"
     ]
    }
   ],
   "source": [
    "# Shape of training data (num_rows, num_columns)\n",
    "print(X_train.shape)\n",
    "\n",
    "# Number of missing values in each column of training data\n",
    "missing_val_count_by_column = (X_train.isnull().sum())\n",
    "print(missing_val_count_by_column[missing_val_count_by_column > 0])"
   ]
  },
  {
   "cell_type": "markdown",
   "id": "ca6baba3",
   "metadata": {
    "papermill": {
     "duration": 0.009277,
     "end_time": "2023-01-09T15:37:49.571403",
     "exception": false,
     "start_time": "2023-01-09T15:37:49.562126",
     "status": "completed"
    },
    "tags": []
   },
   "source": [
    "### Part A\n",
    "\n",
    "Use the above output to answer the questions below."
   ]
  },
  {
   "cell_type": "code",
   "execution_count": 5,
   "id": "92a9c8b0",
   "metadata": {
    "execution": {
     "iopub.execute_input": "2023-01-09T15:37:49.592045Z",
     "iopub.status.busy": "2023-01-09T15:37:49.591456Z",
     "iopub.status.idle": "2023-01-09T15:37:49.605304Z",
     "shell.execute_reply": "2023-01-09T15:37:49.604087Z"
    },
    "papermill": {
     "duration": 0.027263,
     "end_time": "2023-01-09T15:37:49.608105",
     "exception": false,
     "start_time": "2023-01-09T15:37:49.580842",
     "status": "completed"
    },
    "tags": []
   },
   "outputs": [
    {
     "data": {
      "application/javascript": [
       "parent.postMessage({\"jupyterEvent\": \"custom.exercise_interaction\", \"data\": {\"outcomeType\": 1, \"valueTowardsCompletion\": 1.0, \"interactionType\": 1, \"questionType\": 1, \"questionId\": \"1.1_InvestigateEquality\", \"learnToolsVersion\": \"0.3.4\", \"failureMessage\": \"\", \"exceptionClass\": \"\", \"trace\": \"\"}}, \"*\")"
      ],
      "text/plain": [
       "<IPython.core.display.Javascript object>"
      ]
     },
     "metadata": {},
     "output_type": "display_data"
    },
    {
     "data": {
      "text/markdown": [
       "<span style=\"color:#33cc33\">Correct</span>"
      ],
      "text/plain": [
       "Correct"
      ]
     },
     "metadata": {},
     "output_type": "display_data"
    }
   ],
   "source": [
    "# Fill in the line below: How many rows are in the training data?\n",
    "num_rows = X_train.shape[0]\n",
    "\n",
    "# Fill in the line below: How many columns in the training data\n",
    "# have missing values?\n",
    "num_cols_with_missing = len(missing_val_count_by_column[missing_val_count_by_column > 0])\n",
    "\n",
    "# Fill in the line below: How many missing entries are contained in \n",
    "# all of the training data?\n",
    "tot_missing = sum(missing_val_count_by_column[missing_val_count_by_column > 0])\n",
    "\n",
    "# Check your answers\n",
    "step_1.a.check()"
   ]
  },
  {
   "cell_type": "code",
   "execution_count": 6,
   "id": "30c97745",
   "metadata": {
    "execution": {
     "iopub.execute_input": "2023-01-09T15:37:49.631297Z",
     "iopub.status.busy": "2023-01-09T15:37:49.630873Z",
     "iopub.status.idle": "2023-01-09T15:37:49.635049Z",
     "shell.execute_reply": "2023-01-09T15:37:49.634036Z"
    },
    "papermill": {
     "duration": 0.01872,
     "end_time": "2023-01-09T15:37:49.637626",
     "exception": false,
     "start_time": "2023-01-09T15:37:49.618906",
     "status": "completed"
    },
    "tags": []
   },
   "outputs": [],
   "source": [
    "# Lines below will give you a hint or solution code\n",
    "#step_1.a.hint()\n",
    "#step_1.a.solution()"
   ]
  },
  {
   "cell_type": "markdown",
   "id": "1f2a860d",
   "metadata": {
    "papermill": {
     "duration": 0.009349,
     "end_time": "2023-01-09T15:37:49.656888",
     "exception": false,
     "start_time": "2023-01-09T15:37:49.647539",
     "status": "completed"
    },
    "tags": []
   },
   "source": [
    "### Part B\n",
    "Considering your answers above, what do you think is likely the best approach to dealing with the missing values?"
   ]
  },
  {
   "cell_type": "code",
   "execution_count": 7,
   "id": "7d132ddb",
   "metadata": {
    "execution": {
     "iopub.execute_input": "2023-01-09T15:37:49.678604Z",
     "iopub.status.busy": "2023-01-09T15:37:49.678164Z",
     "iopub.status.idle": "2023-01-09T15:37:49.686360Z",
     "shell.execute_reply": "2023-01-09T15:37:49.685365Z"
    },
    "papermill": {
     "duration": 0.021766,
     "end_time": "2023-01-09T15:37:49.688543",
     "exception": false,
     "start_time": "2023-01-09T15:37:49.666777",
     "status": "completed"
    },
    "tags": []
   },
   "outputs": [
    {
     "data": {
      "application/javascript": [
       "parent.postMessage({\"jupyterEvent\": \"custom.exercise_interaction\", \"data\": {\"outcomeType\": 1, \"valueTowardsCompletion\": 1.0, \"interactionType\": 1, \"questionType\": 4, \"questionId\": \"1.2_InvestigateThought\", \"learnToolsVersion\": \"0.3.4\", \"failureMessage\": \"\", \"exceptionClass\": \"\", \"trace\": \"\"}}, \"*\")"
      ],
      "text/plain": [
       "<IPython.core.display.Javascript object>"
      ]
     },
     "metadata": {},
     "output_type": "display_data"
    },
    {
     "data": {
      "text/markdown": [
       "<span style=\"color:#33cc33\">Correct:</span> \n",
       "\n",
       "Since there are relatively few missing entries in the data (the column with the greatest percentage of missing values is missing less than 20% of its entries), we can expect that dropping columns is unlikely to yield good results.  This is because we'd be throwing away a lot of valuable data, and so imputation will likely perform better."
      ],
      "text/plain": [
       "Correct: \n",
       "\n",
       "Since there are relatively few missing entries in the data (the column with the greatest percentage of missing values is missing less than 20% of its entries), we can expect that dropping columns is unlikely to yield good results.  This is because we'd be throwing away a lot of valuable data, and so imputation will likely perform better."
      ]
     },
     "metadata": {},
     "output_type": "display_data"
    }
   ],
   "source": [
    "# Check your answer (Run this code cell to receive credit!)\n",
    "step_1.b.check()"
   ]
  },
  {
   "cell_type": "code",
   "execution_count": 8,
   "id": "d843b83f",
   "metadata": {
    "execution": {
     "iopub.execute_input": "2023-01-09T15:37:49.710644Z",
     "iopub.status.busy": "2023-01-09T15:37:49.710198Z",
     "iopub.status.idle": "2023-01-09T15:37:49.715267Z",
     "shell.execute_reply": "2023-01-09T15:37:49.714327Z"
    },
    "papermill": {
     "duration": 0.019103,
     "end_time": "2023-01-09T15:37:49.717760",
     "exception": false,
     "start_time": "2023-01-09T15:37:49.698657",
     "status": "completed"
    },
    "tags": []
   },
   "outputs": [],
   "source": [
    "#step_1.b.hint()"
   ]
  },
  {
   "cell_type": "markdown",
   "id": "f1b2b522",
   "metadata": {
    "papermill": {
     "duration": 0.009957,
     "end_time": "2023-01-09T15:37:49.737989",
     "exception": false,
     "start_time": "2023-01-09T15:37:49.728032",
     "status": "completed"
    },
    "tags": []
   },
   "source": [
    "To compare different approaches to dealing with missing values, you'll use the same `score_dataset()` function from the tutorial.  This function reports the [mean absolute error](https://en.wikipedia.org/wiki/Mean_absolute_error) (MAE) from a random forest model."
   ]
  },
  {
   "cell_type": "code",
   "execution_count": 9,
   "id": "c7a2ded2",
   "metadata": {
    "execution": {
     "iopub.execute_input": "2023-01-09T15:37:49.760266Z",
     "iopub.status.busy": "2023-01-09T15:37:49.759866Z",
     "iopub.status.idle": "2023-01-09T15:37:50.032374Z",
     "shell.execute_reply": "2023-01-09T15:37:50.031348Z"
    },
    "papermill": {
     "duration": 0.286682,
     "end_time": "2023-01-09T15:37:50.035041",
     "exception": false,
     "start_time": "2023-01-09T15:37:49.748359",
     "status": "completed"
    },
    "tags": []
   },
   "outputs": [],
   "source": [
    "from sklearn.ensemble import RandomForestRegressor\n",
    "from sklearn.metrics import mean_absolute_error\n",
    "\n",
    "# Function for comparing different approaches\n",
    "def score_dataset(X_train, X_valid, y_train, y_valid):\n",
    "    model = RandomForestRegressor(n_estimators=100, random_state=0)\n",
    "    model.fit(X_train, y_train)\n",
    "    preds = model.predict(X_valid)\n",
    "    return mean_absolute_error(y_valid, preds)"
   ]
  },
  {
   "cell_type": "markdown",
   "id": "c98c37ba",
   "metadata": {
    "papermill": {
     "duration": 0.009545,
     "end_time": "2023-01-09T15:37:50.054617",
     "exception": false,
     "start_time": "2023-01-09T15:37:50.045072",
     "status": "completed"
    },
    "tags": []
   },
   "source": [
    "# Step 2: Drop columns with missing values\n",
    "\n",
    "In this step, you'll preprocess the data in `X_train` and `X_valid` to remove columns with missing values.  Set the preprocessed DataFrames to `reduced_X_train` and `reduced_X_valid`, respectively.  "
   ]
  },
  {
   "cell_type": "code",
   "execution_count": 10,
   "id": "e14313db",
   "metadata": {
    "execution": {
     "iopub.execute_input": "2023-01-09T15:37:50.078945Z",
     "iopub.status.busy": "2023-01-09T15:37:50.077762Z",
     "iopub.status.idle": "2023-01-09T15:37:50.110794Z",
     "shell.execute_reply": "2023-01-09T15:37:50.109641Z"
    },
    "papermill": {
     "duration": 0.048184,
     "end_time": "2023-01-09T15:37:50.113252",
     "exception": false,
     "start_time": "2023-01-09T15:37:50.065068",
     "status": "completed"
    },
    "tags": []
   },
   "outputs": [
    {
     "data": {
      "application/javascript": [
       "parent.postMessage({\"jupyterEvent\": \"custom.exercise_interaction\", \"data\": {\"outcomeType\": 1, \"valueTowardsCompletion\": 1.0, \"interactionType\": 1, \"questionType\": 2, \"questionId\": \"2_DropMissing\", \"learnToolsVersion\": \"0.3.4\", \"failureMessage\": \"\", \"exceptionClass\": \"\", \"trace\": \"\"}}, \"*\")"
      ],
      "text/plain": [
       "<IPython.core.display.Javascript object>"
      ]
     },
     "metadata": {},
     "output_type": "display_data"
    },
    {
     "data": {
      "text/markdown": [
       "<span style=\"color:#33cc33\">Correct</span>"
      ],
      "text/plain": [
       "Correct"
      ]
     },
     "metadata": {},
     "output_type": "display_data"
    }
   ],
   "source": [
    "# Fill in the line below: get names of columns with missing values\n",
    "cols_with_missing_val_by_name = [col for col in X_train.columns\n",
    "                                 if X_train[col].isnull().any()]\n",
    "\n",
    "# Fill in the lines below: drop columns in training and validation data\n",
    "reduced_X_train = X_train.drop(cols_with_missing_val_by_name, axis=1)\n",
    "reduced_X_valid = X_valid.drop(cols_with_missing_val_by_name, axis=1)\n",
    "\n",
    "# Check your answers\n",
    "step_2.check()"
   ]
  },
  {
   "cell_type": "code",
   "execution_count": 11,
   "id": "86189b13",
   "metadata": {
    "execution": {
     "iopub.execute_input": "2023-01-09T15:37:50.135667Z",
     "iopub.status.busy": "2023-01-09T15:37:50.135271Z",
     "iopub.status.idle": "2023-01-09T15:37:50.140489Z",
     "shell.execute_reply": "2023-01-09T15:37:50.139332Z"
    },
    "papermill": {
     "duration": 0.019032,
     "end_time": "2023-01-09T15:37:50.142664",
     "exception": false,
     "start_time": "2023-01-09T15:37:50.123632",
     "status": "completed"
    },
    "tags": []
   },
   "outputs": [],
   "source": [
    "# Lines below will give you a hint or solution code\n",
    "#step_2.hint()\n",
    "#step_2.solution()"
   ]
  },
  {
   "cell_type": "markdown",
   "id": "47da0781",
   "metadata": {
    "papermill": {
     "duration": 0.009817,
     "end_time": "2023-01-09T15:37:50.163476",
     "exception": false,
     "start_time": "2023-01-09T15:37:50.153659",
     "status": "completed"
    },
    "tags": []
   },
   "source": [
    "Run the next code cell without changes to obtain the MAE for this approach."
   ]
  },
  {
   "cell_type": "code",
   "execution_count": 12,
   "id": "f0ba93f6",
   "metadata": {
    "execution": {
     "iopub.execute_input": "2023-01-09T15:37:50.188206Z",
     "iopub.status.busy": "2023-01-09T15:37:50.187405Z",
     "iopub.status.idle": "2023-01-09T15:37:51.316961Z",
     "shell.execute_reply": "2023-01-09T15:37:51.315258Z"
    },
    "papermill": {
     "duration": 1.145272,
     "end_time": "2023-01-09T15:37:51.319742",
     "exception": false,
     "start_time": "2023-01-09T15:37:50.174470",
     "status": "completed"
    },
    "tags": []
   },
   "outputs": [
    {
     "name": "stdout",
     "output_type": "stream",
     "text": [
      "MAE (Drop columns with missing values):\n",
      "17837.82570776256\n"
     ]
    }
   ],
   "source": [
    "print(\"MAE (Drop columns with missing values):\")\n",
    "print(score_dataset(reduced_X_train, reduced_X_valid, y_train, y_valid))"
   ]
  },
  {
   "cell_type": "markdown",
   "id": "499a99dd",
   "metadata": {
    "papermill": {
     "duration": 0.00989,
     "end_time": "2023-01-09T15:37:51.340136",
     "exception": false,
     "start_time": "2023-01-09T15:37:51.330246",
     "status": "completed"
    },
    "tags": []
   },
   "source": [
    "# Step 3: Imputation\n",
    "\n",
    "### Part A\n",
    "\n",
    "Use the next code cell to impute missing values with the mean value along each column.  Set the preprocessed DataFrames to `imputed_X_train` and `imputed_X_valid`.  Make sure that the column names match those in `X_train` and `X_valid`."
   ]
  },
  {
   "cell_type": "code",
   "execution_count": 13,
   "id": "52711cf8",
   "metadata": {
    "execution": {
     "iopub.execute_input": "2023-01-09T15:37:51.362491Z",
     "iopub.status.busy": "2023-01-09T15:37:51.362086Z",
     "iopub.status.idle": "2023-01-09T15:37:51.400534Z",
     "shell.execute_reply": "2023-01-09T15:37:51.399293Z"
    },
    "papermill": {
     "duration": 0.052878,
     "end_time": "2023-01-09T15:37:51.403282",
     "exception": false,
     "start_time": "2023-01-09T15:37:51.350404",
     "status": "completed"
    },
    "tags": []
   },
   "outputs": [
    {
     "data": {
      "application/javascript": [
       "parent.postMessage({\"jupyterEvent\": \"custom.exercise_interaction\", \"data\": {\"outcomeType\": 1, \"valueTowardsCompletion\": 1.0, \"interactionType\": 1, \"questionType\": 2, \"questionId\": \"3.1_ImputeCode\", \"learnToolsVersion\": \"0.3.4\", \"failureMessage\": \"\", \"exceptionClass\": \"\", \"trace\": \"\"}}, \"*\")"
      ],
      "text/plain": [
       "<IPython.core.display.Javascript object>"
      ]
     },
     "metadata": {},
     "output_type": "display_data"
    },
    {
     "data": {
      "text/markdown": [
       "<span style=\"color:#33cc33\">Correct</span>"
      ],
      "text/plain": [
       "Correct"
      ]
     },
     "metadata": {},
     "output_type": "display_data"
    }
   ],
   "source": [
    "from sklearn.impute import SimpleImputer\n",
    "\n",
    "# Fill in the lines below: imputation\n",
    "my_imputer = SimpleImputer()\n",
    "imputed_X_train = pd.DataFrame(my_imputer.fit_transform(X_train))\n",
    "imputed_X_valid = pd.DataFrame(my_imputer.transform(X_valid))\n",
    "\n",
    "# Fill in the lines below: imputation removed column names; put them back\n",
    "imputed_X_train.columns = X_train.columns\n",
    "imputed_X_valid.columns = X_valid.columns\n",
    "\n",
    "# Check your answers\n",
    "step_3.a.check()"
   ]
  },
  {
   "cell_type": "code",
   "execution_count": 14,
   "id": "7c027dfb",
   "metadata": {
    "execution": {
     "iopub.execute_input": "2023-01-09T15:37:51.426597Z",
     "iopub.status.busy": "2023-01-09T15:37:51.426187Z",
     "iopub.status.idle": "2023-01-09T15:37:51.431496Z",
     "shell.execute_reply": "2023-01-09T15:37:51.430204Z"
    },
    "papermill": {
     "duration": 0.020048,
     "end_time": "2023-01-09T15:37:51.434016",
     "exception": false,
     "start_time": "2023-01-09T15:37:51.413968",
     "status": "completed"
    },
    "tags": []
   },
   "outputs": [],
   "source": [
    "# Lines below will give you a hint or solution code\n",
    "#step_3.a.hint()\n",
    "#step_3.a.solution()"
   ]
  },
  {
   "cell_type": "markdown",
   "id": "1e4ae67c",
   "metadata": {
    "papermill": {
     "duration": 0.010188,
     "end_time": "2023-01-09T15:37:51.454877",
     "exception": false,
     "start_time": "2023-01-09T15:37:51.444689",
     "status": "completed"
    },
    "tags": []
   },
   "source": [
    "Run the next code cell without changes to obtain the MAE for this approach."
   ]
  },
  {
   "cell_type": "code",
   "execution_count": 15,
   "id": "14f9f45c",
   "metadata": {
    "execution": {
     "iopub.execute_input": "2023-01-09T15:37:51.477685Z",
     "iopub.status.busy": "2023-01-09T15:37:51.477262Z",
     "iopub.status.idle": "2023-01-09T15:37:52.723344Z",
     "shell.execute_reply": "2023-01-09T15:37:52.721837Z"
    },
    "papermill": {
     "duration": 1.260741,
     "end_time": "2023-01-09T15:37:52.726020",
     "exception": false,
     "start_time": "2023-01-09T15:37:51.465279",
     "status": "completed"
    },
    "tags": []
   },
   "outputs": [
    {
     "name": "stdout",
     "output_type": "stream",
     "text": [
      "MAE (Imputation):\n",
      "18062.894611872147\n"
     ]
    }
   ],
   "source": [
    "print(\"MAE (Imputation):\")\n",
    "print(score_dataset(imputed_X_train, imputed_X_valid, y_train, y_valid))"
   ]
  },
  {
   "cell_type": "markdown",
   "id": "4d88c584",
   "metadata": {
    "papermill": {
     "duration": 0.010304,
     "end_time": "2023-01-09T15:37:52.747095",
     "exception": false,
     "start_time": "2023-01-09T15:37:52.736791",
     "status": "completed"
    },
    "tags": []
   },
   "source": [
    "### Part B\n",
    "\n",
    "Compare the MAE from each approach.  Does anything surprise you about the results?  Why do you think one approach performed better than the other?"
   ]
  },
  {
   "cell_type": "code",
   "execution_count": 16,
   "id": "07832e3a",
   "metadata": {
    "execution": {
     "iopub.execute_input": "2023-01-09T15:37:52.770538Z",
     "iopub.status.busy": "2023-01-09T15:37:52.770114Z",
     "iopub.status.idle": "2023-01-09T15:37:52.779648Z",
     "shell.execute_reply": "2023-01-09T15:37:52.778214Z"
    },
    "papermill": {
     "duration": 0.02441,
     "end_time": "2023-01-09T15:37:52.782273",
     "exception": false,
     "start_time": "2023-01-09T15:37:52.757863",
     "status": "completed"
    },
    "tags": []
   },
   "outputs": [
    {
     "data": {
      "application/javascript": [
       "parent.postMessage({\"jupyterEvent\": \"custom.exercise_interaction\", \"data\": {\"outcomeType\": 1, \"valueTowardsCompletion\": 1.0, \"interactionType\": 1, \"questionType\": 4, \"questionId\": \"3.2_ImputeThought\", \"learnToolsVersion\": \"0.3.4\", \"failureMessage\": \"\", \"exceptionClass\": \"\", \"trace\": \"\"}}, \"*\")"
      ],
      "text/plain": [
       "<IPython.core.display.Javascript object>"
      ]
     },
     "metadata": {},
     "output_type": "display_data"
    },
    {
     "data": {
      "text/markdown": [
       "<span style=\"color:#33cc33\">Correct:</span> \n",
       "\n",
       "Given that thre are so few missing values in the dataset, we'd expect imputation to perform better than dropping columns entirely.  However, we see that dropping columns performs slightly better!  While this can probably partially be attributed to noise in the dataset, another potential explanation is that the imputation method is not a great match to this dataset.  That is, maybe instead of filling in the mean value, it makes more sense to set every missing value to a value of 0, to fill in the most frequently encountered value, or to use some other method.  For instance, consider the `GarageYrBlt` column (which indicates the year that the garage was built).  It's likely that in some cases, a missing value could indicate a house that does not have a garage.  Does it make more sense to fill in the median value along each column in this case?  Or could we get better results by filling in the minimum value along each column?  It's not quite clear what's best in this case, but perhaps we can rule out some options immediately - for instance, setting missing values in this column to 0 is likely to yield horrible results!"
      ],
      "text/plain": [
       "Correct: \n",
       "\n",
       "Given that thre are so few missing values in the dataset, we'd expect imputation to perform better than dropping columns entirely.  However, we see that dropping columns performs slightly better!  While this can probably partially be attributed to noise in the dataset, another potential explanation is that the imputation method is not a great match to this dataset.  That is, maybe instead of filling in the mean value, it makes more sense to set every missing value to a value of 0, to fill in the most frequently encountered value, or to use some other method.  For instance, consider the `GarageYrBlt` column (which indicates the year that the garage was built).  It's likely that in some cases, a missing value could indicate a house that does not have a garage.  Does it make more sense to fill in the median value along each column in this case?  Or could we get better results by filling in the minimum value along each column?  It's not quite clear what's best in this case, but perhaps we can rule out some options immediately - for instance, setting missing values in this column to 0 is likely to yield horrible results!"
      ]
     },
     "metadata": {},
     "output_type": "display_data"
    }
   ],
   "source": [
    "# Check your answer (Run this code cell to receive credit!)\n",
    "step_3.b.check()"
   ]
  },
  {
   "cell_type": "code",
   "execution_count": 17,
   "id": "14ce7c0a",
   "metadata": {
    "execution": {
     "iopub.execute_input": "2023-01-09T15:37:52.806074Z",
     "iopub.status.busy": "2023-01-09T15:37:52.805637Z",
     "iopub.status.idle": "2023-01-09T15:37:52.810742Z",
     "shell.execute_reply": "2023-01-09T15:37:52.809518Z"
    },
    "papermill": {
     "duration": 0.019758,
     "end_time": "2023-01-09T15:37:52.813131",
     "exception": false,
     "start_time": "2023-01-09T15:37:52.793373",
     "status": "completed"
    },
    "tags": []
   },
   "outputs": [],
   "source": [
    "#step_3.b.hint()"
   ]
  },
  {
   "cell_type": "markdown",
   "id": "243bdf16",
   "metadata": {
    "papermill": {
     "duration": 0.010682,
     "end_time": "2023-01-09T15:37:52.834995",
     "exception": false,
     "start_time": "2023-01-09T15:37:52.824313",
     "status": "completed"
    },
    "tags": []
   },
   "source": [
    "# Step 4: Generate test predictions\n",
    "\n",
    "In this final step, you'll use any approach of your choosing to deal with missing values.  Once you've preprocessed the training and validation features, you'll train and evaluate a random forest model.  Then, you'll preprocess the test data before generating predictions that can be submitted to the competition!\n",
    "\n",
    "### Part A\n",
    "\n",
    "Use the next code cell to preprocess the training and validation data.  Set the preprocessed DataFrames to `final_X_train` and `final_X_valid`.  **You can use any approach of your choosing here!**  in order for this step to be marked as correct, you need only ensure:\n",
    "- the preprocessed DataFrames have the same number of columns,\n",
    "- the preprocessed DataFrames have no missing values, \n",
    "- `final_X_train` and `y_train` have the same number of rows, and\n",
    "- `final_X_valid` and `y_valid` have the same number of rows."
   ]
  },
  {
   "cell_type": "code",
   "execution_count": 18,
   "id": "e3fdfeb1",
   "metadata": {
    "execution": {
     "iopub.execute_input": "2023-01-09T15:37:52.860106Z",
     "iopub.status.busy": "2023-01-09T15:37:52.859676Z",
     "iopub.status.idle": "2023-01-09T15:37:52.893094Z",
     "shell.execute_reply": "2023-01-09T15:37:52.891848Z"
    },
    "papermill": {
     "duration": 0.049001,
     "end_time": "2023-01-09T15:37:52.895451",
     "exception": false,
     "start_time": "2023-01-09T15:37:52.846450",
     "status": "completed"
    },
    "tags": []
   },
   "outputs": [
    {
     "data": {
      "application/javascript": [
       "parent.postMessage({\"jupyterEvent\": \"custom.exercise_interaction\", \"data\": {\"outcomeType\": 1, \"valueTowardsCompletion\": 1.0, \"interactionType\": 1, \"questionType\": 2, \"questionId\": \"4.1_PredsCodeA\", \"learnToolsVersion\": \"0.3.4\", \"failureMessage\": \"\", \"exceptionClass\": \"\", \"trace\": \"\"}}, \"*\")"
      ],
      "text/plain": [
       "<IPython.core.display.Javascript object>"
      ]
     },
     "metadata": {},
     "output_type": "display_data"
    },
    {
     "data": {
      "text/markdown": [
       "<span style=\"color:#33cc33\">Correct</span>"
      ],
      "text/plain": [
       "Correct"
      ]
     },
     "metadata": {},
     "output_type": "display_data"
    }
   ],
   "source": [
    "# from sklearn.impute import SimpleImputer\n",
    "\n",
    "# Preprocessed training and validation features\n",
    "my_imputer = SimpleImputer(strategy='median')\n",
    "\n",
    "final_X_train = pd.DataFrame(my_imputer.fit_transform(X_train))\n",
    "final_X_valid = pd.DataFrame(my_imputer.transform(X_valid))\n",
    "\n",
    "# final_X_train.columns = X_train.columns\n",
    "# final_X_train.columns = X_valid.columns\n",
    "\n",
    "# Check your answers\n",
    "step_4.a.check()"
   ]
  },
  {
   "cell_type": "code",
   "execution_count": 19,
   "id": "80c74e76",
   "metadata": {
    "execution": {
     "iopub.execute_input": "2023-01-09T15:37:52.920198Z",
     "iopub.status.busy": "2023-01-09T15:37:52.919766Z",
     "iopub.status.idle": "2023-01-09T15:37:52.925619Z",
     "shell.execute_reply": "2023-01-09T15:37:52.924194Z"
    },
    "papermill": {
     "duration": 0.021777,
     "end_time": "2023-01-09T15:37:52.928640",
     "exception": false,
     "start_time": "2023-01-09T15:37:52.906863",
     "status": "completed"
    },
    "tags": []
   },
   "outputs": [],
   "source": [
    "# Lines below will give you a hint or solution code\n",
    "#step_4.a.hint()\n",
    "#step_4.a.solution()"
   ]
  },
  {
   "cell_type": "markdown",
   "id": "ce36bc78",
   "metadata": {
    "papermill": {
     "duration": 0.010827,
     "end_time": "2023-01-09T15:37:52.951899",
     "exception": false,
     "start_time": "2023-01-09T15:37:52.941072",
     "status": "completed"
    },
    "tags": []
   },
   "source": [
    "Run the next code cell to train and evaluate a random forest model.  (*Note that we don't use the `score_dataset()` function above, because we will soon use the trained model to generate test predictions!*)"
   ]
  },
  {
   "cell_type": "code",
   "execution_count": 20,
   "id": "ee031f2b",
   "metadata": {
    "execution": {
     "iopub.execute_input": "2023-01-09T15:37:52.975804Z",
     "iopub.status.busy": "2023-01-09T15:37:52.975347Z",
     "iopub.status.idle": "2023-01-09T15:37:54.219845Z",
     "shell.execute_reply": "2023-01-09T15:37:54.218404Z"
    },
    "papermill": {
     "duration": 1.259652,
     "end_time": "2023-01-09T15:37:54.222688",
     "exception": false,
     "start_time": "2023-01-09T15:37:52.963036",
     "status": "completed"
    },
    "tags": []
   },
   "outputs": [
    {
     "name": "stdout",
     "output_type": "stream",
     "text": [
      "MAE (Your approach):\n",
      "17791.59899543379\n"
     ]
    }
   ],
   "source": [
    "# Define and fit model\n",
    "model = RandomForestRegressor(n_estimators=100, random_state=0)\n",
    "model.fit(final_X_train, y_train)\n",
    "\n",
    "# Get validation predictions and MAE\n",
    "preds_valid = model.predict(final_X_valid)\n",
    "print(\"MAE (Your approach):\")\n",
    "print(mean_absolute_error(y_valid, preds_valid))"
   ]
  },
  {
   "cell_type": "markdown",
   "id": "b2812482",
   "metadata": {
    "papermill": {
     "duration": 0.0119,
     "end_time": "2023-01-09T15:37:54.246041",
     "exception": false,
     "start_time": "2023-01-09T15:37:54.234141",
     "status": "completed"
    },
    "tags": []
   },
   "source": [
    "### Part B\n",
    "\n",
    "Use the next code cell to preprocess your test data.  Make sure that you use a method that agrees with how you preprocessed the training and validation data, and set the preprocessed test features to `final_X_test`.\n",
    "\n",
    "Then, use the preprocessed test features and the trained model to generate test predictions in `preds_test`.\n",
    "\n",
    "In order for this step to be marked correct, you need only ensure:\n",
    "- the preprocessed test DataFrame has no missing values, and\n",
    "- `final_X_test` has the same number of rows as `X_test`."
   ]
  },
  {
   "cell_type": "code",
   "execution_count": 21,
   "id": "c47529e8",
   "metadata": {
    "execution": {
     "iopub.execute_input": "2023-01-09T15:37:54.270359Z",
     "iopub.status.busy": "2023-01-09T15:37:54.269970Z",
     "iopub.status.idle": "2023-01-09T15:37:54.338230Z",
     "shell.execute_reply": "2023-01-09T15:37:54.336904Z"
    },
    "papermill": {
     "duration": 0.083215,
     "end_time": "2023-01-09T15:37:54.340484",
     "exception": false,
     "start_time": "2023-01-09T15:37:54.257269",
     "status": "completed"
    },
    "tags": []
   },
   "outputs": [
    {
     "data": {
      "application/javascript": [
       "parent.postMessage({\"jupyterEvent\": \"custom.exercise_interaction\", \"data\": {\"outcomeType\": 1, \"valueTowardsCompletion\": 1.0, \"interactionType\": 1, \"questionType\": 2, \"questionId\": \"4.2_PredsCodeB\", \"learnToolsVersion\": \"0.3.4\", \"failureMessage\": \"\", \"exceptionClass\": \"\", \"trace\": \"\"}}, \"*\")"
      ],
      "text/plain": [
       "<IPython.core.display.Javascript object>"
      ]
     },
     "metadata": {},
     "output_type": "display_data"
    },
    {
     "data": {
      "text/markdown": [
       "<span style=\"color:#33cc33\">Correct</span>"
      ],
      "text/plain": [
       "Correct"
      ]
     },
     "metadata": {},
     "output_type": "display_data"
    }
   ],
   "source": [
    "# Fill in the line below: preprocess test data\n",
    "final_X_test = pd.DataFrame(my_imputer.fit_transform(X_test))\n",
    "\n",
    "# Fill in the line below: get test predictions\n",
    "preds_test = model.predict(final_X_test)\n",
    "\n",
    "# Check your answers\n",
    "step_4.b.check()"
   ]
  },
  {
   "cell_type": "code",
   "execution_count": 22,
   "id": "85db84b6",
   "metadata": {
    "execution": {
     "iopub.execute_input": "2023-01-09T15:37:54.366069Z",
     "iopub.status.busy": "2023-01-09T15:37:54.365613Z",
     "iopub.status.idle": "2023-01-09T15:37:54.370665Z",
     "shell.execute_reply": "2023-01-09T15:37:54.369438Z"
    },
    "papermill": {
     "duration": 0.020252,
     "end_time": "2023-01-09T15:37:54.372994",
     "exception": false,
     "start_time": "2023-01-09T15:37:54.352742",
     "status": "completed"
    },
    "tags": []
   },
   "outputs": [],
   "source": [
    "# Lines below will give you a hint or solution code\n",
    "#step_4.b.hint()\n",
    "#step_4.b.solution()"
   ]
  },
  {
   "cell_type": "markdown",
   "id": "59b1beca",
   "metadata": {
    "papermill": {
     "duration": 0.01134,
     "end_time": "2023-01-09T15:37:54.396112",
     "exception": false,
     "start_time": "2023-01-09T15:37:54.384772",
     "status": "completed"
    },
    "tags": []
   },
   "source": [
    "Run the next code cell without changes to save your results to a CSV file that can be submitted directly to the competition."
   ]
  },
  {
   "cell_type": "code",
   "execution_count": 23,
   "id": "99a5fa34",
   "metadata": {
    "execution": {
     "iopub.execute_input": "2023-01-09T15:37:54.420898Z",
     "iopub.status.busy": "2023-01-09T15:37:54.420417Z",
     "iopub.status.idle": "2023-01-09T15:37:54.434668Z",
     "shell.execute_reply": "2023-01-09T15:37:54.433236Z"
    },
    "papermill": {
     "duration": 0.03033,
     "end_time": "2023-01-09T15:37:54.437929",
     "exception": false,
     "start_time": "2023-01-09T15:37:54.407599",
     "status": "completed"
    },
    "tags": []
   },
   "outputs": [],
   "source": [
    "# Save test predictions to file\n",
    "output = pd.DataFrame({'Id': X_test.index,\n",
    "                       'SalePrice': preds_test})\n",
    "output.to_csv('submission.csv', index=False)"
   ]
  },
  {
   "cell_type": "markdown",
   "id": "b70b30e2",
   "metadata": {
    "papermill": {
     "duration": 0.011462,
     "end_time": "2023-01-09T15:37:54.461971",
     "exception": false,
     "start_time": "2023-01-09T15:37:54.450509",
     "status": "completed"
    },
    "tags": []
   },
   "source": [
    "# Submit your results\n",
    "\n",
    "Once you have successfully completed Step 4, you're ready to submit your results to the leaderboard!  (_You also learned how to do this in the previous exercise.  If you need a reminder of how to do this, please use the instructions below._)  \n",
    "\n",
    "First, you'll need to join the competition if you haven't already.  So open a new window by clicking on [this link](https://www.kaggle.com/c/home-data-for-ml-course).  Then click on the **Join Competition** button.\n",
    "\n",
    "![join competition image](https://i.imgur.com/wLmFtH3.png)\n",
    "\n",
    "Next, follow the instructions below:\n",
    "1. Begin by clicking on the **Save Version** button in the top right corner of the window.  This will generate a pop-up window.  \n",
    "2. Ensure that the **Save and Run All** option is selected, and then click on the **Save** button.\n",
    "3. This generates a window in the bottom left corner of the notebook.  After it has finished running, click on the number to the right of the **Save Version** button.  This pulls up a list of versions on the right of the screen.  Click on the ellipsis **(...)** to the right of the most recent version, and select **Open in Viewer**.  This brings you into view mode of the same page. You will need to scroll down to get back to these instructions.\n",
    "4. Click on the **Output** tab on the right of the screen.  Then, click on the file you would like to submit, and click on the **Submit** button to submit your results to the leaderboard.\n",
    "\n",
    "You have now successfully submitted to the competition!\n",
    "\n",
    "If you want to keep working to improve your performance, select the **Edit** button in the top right of the screen. Then you can change your code and repeat the process. There's a lot of room to improve, and you will climb up the leaderboard as you work.\n",
    "\n",
    "\n",
    "# Keep going\n",
    "\n",
    "Move on to learn what **[categorical variables](https://www.kaggle.com/alexisbcook/categorical-variables)** are, along with how to incorporate them into your machine learning models.  Categorical variables are very common in real-world data, but you'll get an error if you try to plug them into your models without processing them first!"
   ]
  },
  {
   "cell_type": "markdown",
   "id": "a0608e65",
   "metadata": {
    "papermill": {
     "duration": 0.011712,
     "end_time": "2023-01-09T15:37:54.485226",
     "exception": false,
     "start_time": "2023-01-09T15:37:54.473514",
     "status": "completed"
    },
    "tags": []
   },
   "source": [
    "---\n",
    "\n",
    "\n",
    "\n",
    "\n",
    "*Have questions or comments? Visit the [course discussion forum](https://www.kaggle.com/learn/intermediate-machine-learning/discussion) to chat with other learners.*"
   ]
  }
 ],
 "metadata": {
  "kernelspec": {
   "display_name": "Python 3",
   "language": "python",
   "name": "python3"
  },
  "language_info": {
   "codemirror_mode": {
    "name": "ipython",
    "version": 3
   },
   "file_extension": ".py",
   "mimetype": "text/x-python",
   "name": "python",
   "nbconvert_exporter": "python",
   "pygments_lexer": "ipython3",
   "version": "3.7.12"
  },
  "papermill": {
   "default_parameters": {},
   "duration": 17.769283,
   "end_time": "2023-01-09T15:37:55.420025",
   "environment_variables": {},
   "exception": null,
   "input_path": "__notebook__.ipynb",
   "output_path": "__notebook__.ipynb",
   "parameters": {},
   "start_time": "2023-01-09T15:37:37.650742",
   "version": "2.3.4"
  }
 },
 "nbformat": 4,
 "nbformat_minor": 5
}
