{
 "cells": [
  {
   "cell_type": "markdown",
   "id": "b4299795",
   "metadata": {
    "papermill": {
     "duration": 0.00453,
     "end_time": "2023-01-02T15:33:23.407678",
     "exception": false,
     "start_time": "2023-01-02T15:33:23.403148",
     "status": "completed"
    },
    "tags": []
   },
   "source": [
    "**This notebook is an exercise in the [Introduction to Machine Learning](https://www.kaggle.com/learn/intro-to-machine-learning) course.  You can reference the tutorial at [this link](https://www.kaggle.com/dansbecker/underfitting-and-overfitting).**\n",
    "\n",
    "---\n"
   ]
  },
  {
   "cell_type": "markdown",
   "id": "633af81f",
   "metadata": {
    "papermill": {
     "duration": 0.003026,
     "end_time": "2023-01-02T15:33:23.414246",
     "exception": false,
     "start_time": "2023-01-02T15:33:23.411220",
     "status": "completed"
    },
    "tags": []
   },
   "source": [
    "## Recap\n",
    "You've built your first model, and now it's time to optimize the size of the tree to make better predictions. Run this cell to set up your coding environment where the previous step left off."
   ]
  },
  {
   "cell_type": "code",
   "execution_count": 1,
   "id": "0a2953f5",
   "metadata": {
    "execution": {
     "iopub.execute_input": "2023-01-02T15:33:23.423321Z",
     "iopub.status.busy": "2023-01-02T15:33:23.422706Z",
     "iopub.status.idle": "2023-01-02T15:33:24.615003Z",
     "shell.execute_reply": "2023-01-02T15:33:24.613545Z"
    },
    "papermill": {
     "duration": 1.201424,
     "end_time": "2023-01-02T15:33:24.618882",
     "exception": false,
     "start_time": "2023-01-02T15:33:23.417458",
     "status": "completed"
    },
    "tags": []
   },
   "outputs": [
    {
     "name": "stdout",
     "output_type": "stream",
     "text": [
      "Validation MAE: 29,653\n",
      "\n",
      "Setup complete\n"
     ]
    }
   ],
   "source": [
    "# Code you have previously used to load data\n",
    "import pandas as pd\n",
    "from sklearn.metrics import mean_absolute_error\n",
    "from sklearn.model_selection import train_test_split\n",
    "from sklearn.tree import DecisionTreeRegressor\n",
    "\n",
    "\n",
    "# Path of the file to read\n",
    "iowa_file_path = '../input/home-data-for-ml-course/train.csv'\n",
    "\n",
    "home_data = pd.read_csv(iowa_file_path)\n",
    "# Create target object and call it y\n",
    "y = home_data.SalePrice\n",
    "# Create X\n",
    "features = ['LotArea', 'YearBuilt', '1stFlrSF', '2ndFlrSF', 'FullBath', 'BedroomAbvGr', 'TotRmsAbvGrd']\n",
    "X = home_data[features]\n",
    "\n",
    "# Split into validation and training data\n",
    "train_X, val_X, train_y, val_y = train_test_split(X, y, random_state=1)\n",
    "\n",
    "# Specify Model\n",
    "iowa_model = DecisionTreeRegressor(random_state=1)\n",
    "# Fit Model\n",
    "iowa_model.fit(train_X, train_y)\n",
    "\n",
    "# Make validation predictions and calculate mean absolute error\n",
    "val_predictions = iowa_model.predict(val_X)\n",
    "val_mae = mean_absolute_error(val_predictions, val_y)\n",
    "print(\"Validation MAE: {:,.0f}\".format(val_mae))\n",
    "\n",
    "# Set up code checking\n",
    "from learntools.core import binder\n",
    "binder.bind(globals())\n",
    "from learntools.machine_learning.ex5 import *\n",
    "print(\"\\nSetup complete\")"
   ]
  },
  {
   "cell_type": "markdown",
   "id": "c80668cc",
   "metadata": {
    "papermill": {
     "duration": 0.003949,
     "end_time": "2023-01-02T15:33:24.627240",
     "exception": false,
     "start_time": "2023-01-02T15:33:24.623291",
     "status": "completed"
    },
    "tags": []
   },
   "source": [
    "# Exercises\n",
    "You could write the function `get_mae` yourself. For now, we'll supply it. This is the same function you read about in the previous lesson. Just run the cell below."
   ]
  },
  {
   "cell_type": "code",
   "execution_count": 2,
   "id": "54151c20",
   "metadata": {
    "execution": {
     "iopub.execute_input": "2023-01-02T15:33:24.638809Z",
     "iopub.status.busy": "2023-01-02T15:33:24.637507Z",
     "iopub.status.idle": "2023-01-02T15:33:24.643485Z",
     "shell.execute_reply": "2023-01-02T15:33:24.642632Z"
    },
    "papermill": {
     "duration": 0.014355,
     "end_time": "2023-01-02T15:33:24.645585",
     "exception": false,
     "start_time": "2023-01-02T15:33:24.631230",
     "status": "completed"
    },
    "tags": []
   },
   "outputs": [],
   "source": [
    "def get_mae(max_leaf_nodes, train_X, val_X, train_y, val_y):\n",
    "    model = DecisionTreeRegressor(max_leaf_nodes=max_leaf_nodes, random_state=0)\n",
    "    model.fit(train_X, train_y)\n",
    "    preds_val = model.predict(val_X)\n",
    "    mae = mean_absolute_error(val_y, preds_val)\n",
    "    return(mae)"
   ]
  },
  {
   "cell_type": "markdown",
   "id": "930aaca1",
   "metadata": {
    "papermill": {
     "duration": 0.003376,
     "end_time": "2023-01-02T15:33:24.652666",
     "exception": false,
     "start_time": "2023-01-02T15:33:24.649290",
     "status": "completed"
    },
    "tags": []
   },
   "source": [
    "## Step 1: Compare Different Tree Sizes\n",
    "Write a loop that tries the following values for *max_leaf_nodes* from a set of possible values.\n",
    "\n",
    "Call the *get_mae* function on each value of max_leaf_nodes. Store the output in some way that allows you to select the value of `max_leaf_nodes` that gives the most accurate model on your data."
   ]
  },
  {
   "cell_type": "code",
   "execution_count": 3,
   "id": "7188a268",
   "metadata": {
    "execution": {
     "iopub.execute_input": "2023-01-02T15:33:24.661840Z",
     "iopub.status.busy": "2023-01-02T15:33:24.661205Z",
     "iopub.status.idle": "2023-01-02T15:33:24.707081Z",
     "shell.execute_reply": "2023-01-02T15:33:24.706121Z"
    },
    "papermill": {
     "duration": 0.053176,
     "end_time": "2023-01-02T15:33:24.709361",
     "exception": false,
     "start_time": "2023-01-02T15:33:24.656185",
     "status": "completed"
    },
    "tags": []
   },
   "outputs": [
    {
     "data": {
      "application/javascript": [
       "parent.postMessage({\"jupyterEvent\": \"custom.exercise_interaction\", \"data\": {\"outcomeType\": 1, \"valueTowardsCompletion\": 0.5, \"interactionType\": 1, \"questionType\": 1, \"questionId\": \"1_BestTreeSize\", \"learnToolsVersion\": \"0.3.4\", \"failureMessage\": \"\", \"exceptionClass\": \"\", \"trace\": \"\"}}, \"*\")"
      ],
      "text/plain": [
       "<IPython.core.display.Javascript object>"
      ]
     },
     "metadata": {},
     "output_type": "display_data"
    },
    {
     "data": {
      "text/markdown": [
       "<span style=\"color:#33cc33\">Correct</span>"
      ],
      "text/plain": [
       "Correct"
      ]
     },
     "metadata": {},
     "output_type": "display_data"
    }
   ],
   "source": [
    "candidate_max_leaf_nodes = [5, 25, 50, 100, 250, 500]\n",
    "# Write loop to find the ideal tree size from candidate_max_leaf_nodes\n",
    "scores = {leaf_size: get_mae(leaf_size, train_X, val_X, train_y, val_y) for leaf_size in candidate_max_leaf_nodes}\n",
    "\n",
    "# Store the best value of max_leaf_nodes (it will be either 5, 25, 50, 100, 250 or 500)\n",
    "best_tree_size = min(scores, key=scores.get)\n",
    "\n",
    "# Check your answer\n",
    "step_1.check()"
   ]
  },
  {
   "cell_type": "code",
   "execution_count": 4,
   "id": "e6ed4a24",
   "metadata": {
    "execution": {
     "iopub.execute_input": "2023-01-02T15:33:24.718519Z",
     "iopub.status.busy": "2023-01-02T15:33:24.718164Z",
     "iopub.status.idle": "2023-01-02T15:33:24.722182Z",
     "shell.execute_reply": "2023-01-02T15:33:24.721133Z"
    },
    "papermill": {
     "duration": 0.011218,
     "end_time": "2023-01-02T15:33:24.724424",
     "exception": false,
     "start_time": "2023-01-02T15:33:24.713206",
     "status": "completed"
    },
    "tags": []
   },
   "outputs": [],
   "source": [
    "# The lines below will show you a hint or the solution.\n",
    "#step_1.hint() \n",
    "# step_1.solution()"
   ]
  },
  {
   "cell_type": "markdown",
   "id": "6c736580",
   "metadata": {
    "papermill": {
     "duration": 0.003412,
     "end_time": "2023-01-02T15:33:24.731790",
     "exception": false,
     "start_time": "2023-01-02T15:33:24.728378",
     "status": "completed"
    },
    "tags": []
   },
   "source": [
    "## Step 2: Fit Model Using All Data\n",
    "You know the best tree size. If you were going to deploy this model in practice, you would make it even more accurate by using all of the data and keeping that tree size.  That is, you don't need to hold out the validation data now that you've made all your modeling decisions."
   ]
  },
  {
   "cell_type": "code",
   "execution_count": 5,
   "id": "bf1741a2",
   "metadata": {
    "execution": {
     "iopub.execute_input": "2023-01-02T15:33:24.741129Z",
     "iopub.status.busy": "2023-01-02T15:33:24.740262Z",
     "iopub.status.idle": "2023-01-02T15:33:24.758267Z",
     "shell.execute_reply": "2023-01-02T15:33:24.757315Z"
    },
    "papermill": {
     "duration": 0.024898,
     "end_time": "2023-01-02T15:33:24.760309",
     "exception": false,
     "start_time": "2023-01-02T15:33:24.735411",
     "status": "completed"
    },
    "tags": []
   },
   "outputs": [
    {
     "data": {
      "application/javascript": [
       "parent.postMessage({\"jupyterEvent\": \"custom.exercise_interaction\", \"data\": {\"outcomeType\": 1, \"valueTowardsCompletion\": 0.5, \"interactionType\": 1, \"questionType\": 2, \"questionId\": \"2_FitModelWithAllData\", \"learnToolsVersion\": \"0.3.4\", \"failureMessage\": \"\", \"exceptionClass\": \"\", \"trace\": \"\"}}, \"*\")"
      ],
      "text/plain": [
       "<IPython.core.display.Javascript object>"
      ]
     },
     "metadata": {},
     "output_type": "display_data"
    },
    {
     "data": {
      "text/markdown": [
       "<span style=\"color:#33cc33\">Correct</span>"
      ],
      "text/plain": [
       "Correct"
      ]
     },
     "metadata": {},
     "output_type": "display_data"
    }
   ],
   "source": [
    "# Fill in argument to make optimal size and uncomment\n",
    "final_model = DecisionTreeRegressor(max_leaf_nodes=best_tree_size, random_state=0)\n",
    "\n",
    "# fit the final model and uncomment the next two lines\n",
    "final_model.fit(X, y)\n",
    "\n",
    "# Check your answer\n",
    "step_2.check()"
   ]
  },
  {
   "cell_type": "code",
   "execution_count": 6,
   "id": "16b44114",
   "metadata": {
    "execution": {
     "iopub.execute_input": "2023-01-02T15:33:24.770559Z",
     "iopub.status.busy": "2023-01-02T15:33:24.769913Z",
     "iopub.status.idle": "2023-01-02T15:33:24.773526Z",
     "shell.execute_reply": "2023-01-02T15:33:24.772785Z"
    },
    "papermill": {
     "duration": 0.011132,
     "end_time": "2023-01-02T15:33:24.775513",
     "exception": false,
     "start_time": "2023-01-02T15:33:24.764381",
     "status": "completed"
    },
    "tags": []
   },
   "outputs": [],
   "source": [
    "# step_2.hint()\n",
    "# step_2.solution()"
   ]
  },
  {
   "cell_type": "markdown",
   "id": "ea7e2f54",
   "metadata": {
    "papermill": {
     "duration": 0.003729,
     "end_time": "2023-01-02T15:33:24.783287",
     "exception": false,
     "start_time": "2023-01-02T15:33:24.779558",
     "status": "completed"
    },
    "tags": []
   },
   "source": [
    "You've tuned this model and improved your results. But we are still using Decision Tree models, which are not very sophisticated by modern machine learning standards. In the next step you will learn to use Random Forests to improve your models even more.\n",
    "\n",
    "# Keep Going\n",
    "\n",
    "You are ready for **[Random Forests](https://www.kaggle.com/dansbecker/random-forests).**\n"
   ]
  },
  {
   "cell_type": "markdown",
   "id": "9d61133a",
   "metadata": {
    "papermill": {
     "duration": 0.00356,
     "end_time": "2023-01-02T15:33:24.790754",
     "exception": false,
     "start_time": "2023-01-02T15:33:24.787194",
     "status": "completed"
    },
    "tags": []
   },
   "source": [
    "---\n",
    "\n",
    "\n",
    "\n",
    "\n",
    "*Have questions or comments? Visit the [course discussion forum](https://www.kaggle.com/learn/intro-to-machine-learning/discussion) to chat with other learners.*"
   ]
  }
 ],
 "metadata": {
  "kernelspec": {
   "display_name": "Python 3",
   "language": "python",
   "name": "python3"
  },
  "language_info": {
   "codemirror_mode": {
    "name": "ipython",
    "version": 3
   },
   "file_extension": ".py",
   "mimetype": "text/x-python",
   "name": "python",
   "nbconvert_exporter": "python",
   "pygments_lexer": "ipython3",
   "version": "3.7.12"
  },
  "papermill": {
   "default_parameters": {},
   "duration": 10.610349,
   "end_time": "2023-01-02T15:33:25.616842",
   "environment_variables": {},
   "exception": null,
   "input_path": "__notebook__.ipynb",
   "output_path": "__notebook__.ipynb",
   "parameters": {},
   "start_time": "2023-01-02T15:33:15.006493",
   "version": "2.3.4"
  }
 },
 "nbformat": 4,
 "nbformat_minor": 5
}
