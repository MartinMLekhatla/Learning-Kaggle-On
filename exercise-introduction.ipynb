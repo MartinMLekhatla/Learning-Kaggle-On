{
 "cells": [
  {
   "cell_type": "markdown",
   "id": "01271264",
   "metadata": {
    "papermill": {
     "duration": 0.006963,
     "end_time": "2023-01-04T17:48:38.414054",
     "exception": false,
     "start_time": "2023-01-04T17:48:38.407091",
     "status": "completed"
    },
    "tags": []
   },
   "source": [
    "**This notebook is an exercise in the [Intermediate Machine Learning](https://www.kaggle.com/learn/intermediate-machine-learning) course.  You can reference the tutorial at [this link](https://www.kaggle.com/alexisbcook/introduction).**\n",
    "\n",
    "---\n"
   ]
  },
  {
   "cell_type": "markdown",
   "id": "03a0ae61",
   "metadata": {
    "papermill": {
     "duration": 0.0051,
     "end_time": "2023-01-04T17:48:38.424869",
     "exception": false,
     "start_time": "2023-01-04T17:48:38.419769",
     "status": "completed"
    },
    "tags": []
   },
   "source": [
    "As a warm-up, you'll review some machine learning fundamentals and submit your initial results to a Kaggle competition.\n",
    "\n",
    "# Setup\n",
    "\n",
    "The questions below will give you feedback on your work. Run the following cell to set up the feedback system."
   ]
  },
  {
   "cell_type": "code",
   "execution_count": 1,
   "id": "08dc2e05",
   "metadata": {
    "execution": {
     "iopub.execute_input": "2023-01-04T17:48:38.438192Z",
     "iopub.status.busy": "2023-01-04T17:48:38.437650Z",
     "iopub.status.idle": "2023-01-04T17:48:40.039319Z",
     "shell.execute_reply": "2023-01-04T17:48:40.037795Z"
    },
    "papermill": {
     "duration": 1.612168,
     "end_time": "2023-01-04T17:48:40.042646",
     "exception": false,
     "start_time": "2023-01-04T17:48:38.430478",
     "status": "completed"
    },
    "tags": []
   },
   "outputs": [
    {
     "name": "stdout",
     "output_type": "stream",
     "text": [
      "Setup Complete\n"
     ]
    }
   ],
   "source": [
    "# Set up code checking\n",
    "import os\n",
    "if not os.path.exists(\"../input/train.csv\"):\n",
    "    os.symlink(\"../input/home-data-for-ml-course/train.csv\", \"../input/train.csv\")  \n",
    "    os.symlink(\"../input/home-data-for-ml-course/test.csv\", \"../input/test.csv\")  \n",
    "from learntools.core import binder\n",
    "binder.bind(globals())\n",
    "from learntools.ml_intermediate.ex1 import *\n",
    "print(\"Setup Complete\")"
   ]
  },
  {
   "cell_type": "markdown",
   "id": "f319065a",
   "metadata": {
    "papermill": {
     "duration": 0.005226,
     "end_time": "2023-01-04T17:48:40.053723",
     "exception": false,
     "start_time": "2023-01-04T17:48:40.048497",
     "status": "completed"
    },
    "tags": []
   },
   "source": [
    "You will work with data from the [Housing Prices Competition for Kaggle Learn Users](https://www.kaggle.com/c/home-data-for-ml-course) to predict home prices in Iowa using 79 explanatory variables describing (almost) every aspect of the homes.  \n",
    "\n",
    "![Ames Housing dataset image](https://i.imgur.com/lTJVG4e.png)\n",
    "\n",
    "Run the next code cell without changes to load the training and validation features in `X_train` and `X_valid`, along with the prediction targets in `y_train` and `y_valid`.  The test features are loaded in `X_test`.  (_If you need to review **features** and **prediction targets**, please check out [this short tutorial](https://www.kaggle.com/dansbecker/your-first-machine-learning-model).  To read about model **validation**, look [here](https://www.kaggle.com/dansbecker/model-validation).  Alternatively, if you'd prefer to look through a full course to review all of these topics, start [here](https://www.kaggle.com/learn/machine-learning).)_"
   ]
  },
  {
   "cell_type": "code",
   "execution_count": 2,
   "id": "89a8d2ce",
   "metadata": {
    "execution": {
     "iopub.execute_input": "2023-01-04T17:48:40.069467Z",
     "iopub.status.busy": "2023-01-04T17:48:40.068625Z",
     "iopub.status.idle": "2023-01-04T17:48:40.181274Z",
     "shell.execute_reply": "2023-01-04T17:48:40.180043Z"
    },
    "papermill": {
     "duration": 0.124242,
     "end_time": "2023-01-04T17:48:40.184018",
     "exception": false,
     "start_time": "2023-01-04T17:48:40.059776",
     "status": "completed"
    },
    "tags": []
   },
   "outputs": [],
   "source": [
    "import pandas as pd\n",
    "from sklearn.model_selection import train_test_split\n",
    "\n",
    "# Read the data\n",
    "X_full = pd.read_csv('../input/train.csv', index_col='Id')\n",
    "X_test_full = pd.read_csv('../input/test.csv', index_col='Id')\n",
    "\n",
    "# Obtain target and predictors\n",
    "y = X_full.SalePrice\n",
    "features = ['LotArea', 'OverallQual', 'OverallCond', 'YearBuilt', '1stFlrSF', '2ndFlrSF', 'FullBath', 'HalfBath', 'BedroomAbvGr', 'TotRmsAbvGrd', 'PoolArea']\n",
    "X = X_full[features].copy()\n",
    "X_test = X_test_full[features].copy()\n",
    "\n",
    "# Break off validation set from training data\n",
    "X_train, X_valid, y_train, y_valid = train_test_split(X, y, train_size=0.8, test_size=0.2,\n",
    "                                                      random_state=0)"
   ]
  },
  {
   "cell_type": "markdown",
   "id": "3a2b5eac",
   "metadata": {
    "papermill": {
     "duration": 0.005125,
     "end_time": "2023-01-04T17:48:40.194604",
     "exception": false,
     "start_time": "2023-01-04T17:48:40.189479",
     "status": "completed"
    },
    "tags": []
   },
   "source": [
    "Use the next cell to print the first several rows of the data. It's a nice way to get an overview of the data you will use in your price prediction model."
   ]
  },
  {
   "cell_type": "code",
   "execution_count": 3,
   "id": "da30719e",
   "metadata": {
    "execution": {
     "iopub.execute_input": "2023-01-04T17:48:40.207705Z",
     "iopub.status.busy": "2023-01-04T17:48:40.207023Z",
     "iopub.status.idle": "2023-01-04T17:48:40.230366Z",
     "shell.execute_reply": "2023-01-04T17:48:40.229218Z"
    },
    "papermill": {
     "duration": 0.032755,
     "end_time": "2023-01-04T17:48:40.232724",
     "exception": false,
     "start_time": "2023-01-04T17:48:40.199969",
     "status": "completed"
    },
    "tags": []
   },
   "outputs": [
    {
     "data": {
      "text/html": [
       "<div>\n",
       "<style scoped>\n",
       "    .dataframe tbody tr th:only-of-type {\n",
       "        vertical-align: middle;\n",
       "    }\n",
       "\n",
       "    .dataframe tbody tr th {\n",
       "        vertical-align: top;\n",
       "    }\n",
       "\n",
       "    .dataframe thead th {\n",
       "        text-align: right;\n",
       "    }\n",
       "</style>\n",
       "<table border=\"1\" class=\"dataframe\">\n",
       "  <thead>\n",
       "    <tr style=\"text-align: right;\">\n",
       "      <th></th>\n",
       "      <th>LotArea</th>\n",
       "      <th>OverallQual</th>\n",
       "      <th>OverallCond</th>\n",
       "      <th>YearBuilt</th>\n",
       "      <th>1stFlrSF</th>\n",
       "      <th>2ndFlrSF</th>\n",
       "      <th>FullBath</th>\n",
       "      <th>HalfBath</th>\n",
       "      <th>BedroomAbvGr</th>\n",
       "      <th>TotRmsAbvGrd</th>\n",
       "      <th>PoolArea</th>\n",
       "    </tr>\n",
       "    <tr>\n",
       "      <th>Id</th>\n",
       "      <th></th>\n",
       "      <th></th>\n",
       "      <th></th>\n",
       "      <th></th>\n",
       "      <th></th>\n",
       "      <th></th>\n",
       "      <th></th>\n",
       "      <th></th>\n",
       "      <th></th>\n",
       "      <th></th>\n",
       "      <th></th>\n",
       "    </tr>\n",
       "  </thead>\n",
       "  <tbody>\n",
       "    <tr>\n",
       "      <th>619</th>\n",
       "      <td>11694</td>\n",
       "      <td>9</td>\n",
       "      <td>5</td>\n",
       "      <td>2007</td>\n",
       "      <td>1828</td>\n",
       "      <td>0</td>\n",
       "      <td>2</td>\n",
       "      <td>0</td>\n",
       "      <td>3</td>\n",
       "      <td>9</td>\n",
       "      <td>0</td>\n",
       "    </tr>\n",
       "    <tr>\n",
       "      <th>871</th>\n",
       "      <td>6600</td>\n",
       "      <td>5</td>\n",
       "      <td>5</td>\n",
       "      <td>1962</td>\n",
       "      <td>894</td>\n",
       "      <td>0</td>\n",
       "      <td>1</td>\n",
       "      <td>0</td>\n",
       "      <td>2</td>\n",
       "      <td>5</td>\n",
       "      <td>0</td>\n",
       "    </tr>\n",
       "    <tr>\n",
       "      <th>93</th>\n",
       "      <td>13360</td>\n",
       "      <td>5</td>\n",
       "      <td>7</td>\n",
       "      <td>1921</td>\n",
       "      <td>964</td>\n",
       "      <td>0</td>\n",
       "      <td>1</td>\n",
       "      <td>0</td>\n",
       "      <td>2</td>\n",
       "      <td>5</td>\n",
       "      <td>0</td>\n",
       "    </tr>\n",
       "    <tr>\n",
       "      <th>818</th>\n",
       "      <td>13265</td>\n",
       "      <td>8</td>\n",
       "      <td>5</td>\n",
       "      <td>2002</td>\n",
       "      <td>1689</td>\n",
       "      <td>0</td>\n",
       "      <td>2</td>\n",
       "      <td>0</td>\n",
       "      <td>3</td>\n",
       "      <td>7</td>\n",
       "      <td>0</td>\n",
       "    </tr>\n",
       "    <tr>\n",
       "      <th>303</th>\n",
       "      <td>13704</td>\n",
       "      <td>7</td>\n",
       "      <td>5</td>\n",
       "      <td>2001</td>\n",
       "      <td>1541</td>\n",
       "      <td>0</td>\n",
       "      <td>2</td>\n",
       "      <td>0</td>\n",
       "      <td>3</td>\n",
       "      <td>6</td>\n",
       "      <td>0</td>\n",
       "    </tr>\n",
       "  </tbody>\n",
       "</table>\n",
       "</div>"
      ],
      "text/plain": [
       "     LotArea  OverallQual  OverallCond  YearBuilt  1stFlrSF  2ndFlrSF  \\\n",
       "Id                                                                      \n",
       "619    11694            9            5       2007      1828         0   \n",
       "871     6600            5            5       1962       894         0   \n",
       "93     13360            5            7       1921       964         0   \n",
       "818    13265            8            5       2002      1689         0   \n",
       "303    13704            7            5       2001      1541         0   \n",
       "\n",
       "     FullBath  HalfBath  BedroomAbvGr  TotRmsAbvGrd  PoolArea  \n",
       "Id                                                             \n",
       "619         2         0             3             9         0  \n",
       "871         1         0             2             5         0  \n",
       "93          1         0             2             5         0  \n",
       "818         2         0             3             7         0  \n",
       "303         2         0             3             6         0  "
      ]
     },
     "execution_count": 3,
     "metadata": {},
     "output_type": "execute_result"
    }
   ],
   "source": [
    "X_train.head()"
   ]
  },
  {
   "cell_type": "markdown",
   "id": "fe447e32",
   "metadata": {
    "papermill": {
     "duration": 0.005852,
     "end_time": "2023-01-04T17:48:40.244443",
     "exception": false,
     "start_time": "2023-01-04T17:48:40.238591",
     "status": "completed"
    },
    "tags": []
   },
   "source": [
    "The next code cell defines five different random forest models.  Run this code cell without changes.  (_To review **random forests**, look [here](https://www.kaggle.com/dansbecker/random-forests)._)"
   ]
  },
  {
   "cell_type": "code",
   "execution_count": 4,
   "id": "b24fbb71",
   "metadata": {
    "execution": {
     "iopub.execute_input": "2023-01-04T17:48:40.259347Z",
     "iopub.status.busy": "2023-01-04T17:48:40.258464Z",
     "iopub.status.idle": "2023-01-04T17:48:40.265523Z",
     "shell.execute_reply": "2023-01-04T17:48:40.264512Z"
    },
    "papermill": {
     "duration": 0.01818,
     "end_time": "2023-01-04T17:48:40.268485",
     "exception": false,
     "start_time": "2023-01-04T17:48:40.250305",
     "status": "completed"
    },
    "tags": []
   },
   "outputs": [],
   "source": [
    "from sklearn.ensemble import RandomForestRegressor\n",
    "\n",
    "# Define the models\n",
    "model_1 = RandomForestRegressor(n_estimators=50, random_state=0)\n",
    "model_2 = RandomForestRegressor(n_estimators=100, random_state=0)\n",
    "model_3 = RandomForestRegressor(n_estimators=100, criterion='absolute_error', random_state=0)\n",
    "model_4 = RandomForestRegressor(n_estimators=200, min_samples_split=20, random_state=0)\n",
    "model_5 = RandomForestRegressor(n_estimators=100, max_depth=7, random_state=0)\n",
    "\n",
    "models = [model_1, model_2, model_3, model_4, model_5]"
   ]
  },
  {
   "cell_type": "markdown",
   "id": "778196a7",
   "metadata": {
    "papermill": {
     "duration": 0.007223,
     "end_time": "2023-01-04T17:48:40.281563",
     "exception": false,
     "start_time": "2023-01-04T17:48:40.274340",
     "status": "completed"
    },
    "tags": []
   },
   "source": [
    "To select the best model out of the five, we define a function `score_model()` below.  This function returns the mean absolute error (MAE) from the validation set.  Recall that the best model will obtain the lowest MAE.  (_To review **mean absolute error**, look [here](https://www.kaggle.com/dansbecker/model-validation).)_\n",
    "\n",
    "Run the code cell without changes."
   ]
  },
  {
   "cell_type": "code",
   "execution_count": 5,
   "id": "65fbc987",
   "metadata": {
    "execution": {
     "iopub.execute_input": "2023-01-04T17:48:40.295164Z",
     "iopub.status.busy": "2023-01-04T17:48:40.294666Z",
     "iopub.status.idle": "2023-01-04T17:48:46.100471Z",
     "shell.execute_reply": "2023-01-04T17:48:46.098789Z"
    },
    "papermill": {
     "duration": 5.816703,
     "end_time": "2023-01-04T17:48:46.103975",
     "exception": false,
     "start_time": "2023-01-04T17:48:40.287272",
     "status": "completed"
    },
    "tags": []
   },
   "outputs": [
    {
     "name": "stdout",
     "output_type": "stream",
     "text": [
      "Model 1 MAE: 19759\n",
      "Model 2 MAE: 20178\n",
      "Model 3 MAE: 19717\n",
      "Model 4 MAE: 20878\n",
      "Model 5 MAE: 20864\n"
     ]
    }
   ],
   "source": [
    "from sklearn.metrics import mean_absolute_error\n",
    "\n",
    "# Function for comparing different models\n",
    "def score_model(model, X_t=X_train, X_v=X_valid, y_t=y_train, y_v=y_valid):\n",
    "    model.fit(X_t, y_t)\n",
    "    preds = model.predict(X_v)\n",
    "    return mean_absolute_error(y_v, preds)\n",
    "\n",
    "for i in range(0, len(models)):\n",
    "    mae = score_model(models[i])\n",
    "    print(\"Model %d MAE: %d\" % (i+1, mae))"
   ]
  },
  {
   "cell_type": "markdown",
   "id": "e0ea8155",
   "metadata": {
    "papermill": {
     "duration": 0.006034,
     "end_time": "2023-01-04T17:48:46.116326",
     "exception": false,
     "start_time": "2023-01-04T17:48:46.110292",
     "status": "completed"
    },
    "tags": []
   },
   "source": [
    "# Step 1: Evaluate several models\n",
    "\n",
    "Use the above results to fill in the line below.  Which model is the best model?  Your answer should be one of `model_1`, `model_2`, `model_3`, `model_4`, or `model_5`."
   ]
  },
  {
   "cell_type": "code",
   "execution_count": 6,
   "id": "1b9c75e4",
   "metadata": {
    "execution": {
     "iopub.execute_input": "2023-01-04T17:48:46.130848Z",
     "iopub.status.busy": "2023-01-04T17:48:46.130414Z",
     "iopub.status.idle": "2023-01-04T17:48:46.140344Z",
     "shell.execute_reply": "2023-01-04T17:48:46.139092Z"
    },
    "papermill": {
     "duration": 0.020055,
     "end_time": "2023-01-04T17:48:46.142731",
     "exception": false,
     "start_time": "2023-01-04T17:48:46.122676",
     "status": "completed"
    },
    "tags": []
   },
   "outputs": [
    {
     "data": {
      "application/javascript": [
       "parent.postMessage({\"jupyterEvent\": \"custom.exercise_interaction\", \"data\": {\"outcomeType\": 1, \"valueTowardsCompletion\": 0.5, \"interactionType\": 1, \"questionType\": 2, \"questionId\": \"1_BestModel\", \"learnToolsVersion\": \"0.3.4\", \"failureMessage\": \"\", \"exceptionClass\": \"\", \"trace\": \"\"}}, \"*\")"
      ],
      "text/plain": [
       "<IPython.core.display.Javascript object>"
      ]
     },
     "metadata": {},
     "output_type": "display_data"
    },
    {
     "data": {
      "text/markdown": [
       "<span style=\"color:#33cc33\">Correct</span>"
      ],
      "text/plain": [
       "Correct"
      ]
     },
     "metadata": {},
     "output_type": "display_data"
    }
   ],
   "source": [
    "# Fill in the best model\n",
    "best_model = model_3\n",
    "\n",
    "# Check your answer\n",
    "step_1.check()"
   ]
  },
  {
   "cell_type": "code",
   "execution_count": 7,
   "id": "e1d11462",
   "metadata": {
    "execution": {
     "iopub.execute_input": "2023-01-04T17:48:46.157272Z",
     "iopub.status.busy": "2023-01-04T17:48:46.156775Z",
     "iopub.status.idle": "2023-01-04T17:48:46.162094Z",
     "shell.execute_reply": "2023-01-04T17:48:46.160812Z"
    },
    "papermill": {
     "duration": 0.016163,
     "end_time": "2023-01-04T17:48:46.165037",
     "exception": false,
     "start_time": "2023-01-04T17:48:46.148874",
     "status": "completed"
    },
    "tags": []
   },
   "outputs": [],
   "source": [
    "# Lines below will give you a hint or solution code\n",
    "#step_1.hint()\n",
    "#step_1.solution()"
   ]
  },
  {
   "cell_type": "markdown",
   "id": "f73b73cd",
   "metadata": {
    "papermill": {
     "duration": 0.005891,
     "end_time": "2023-01-04T17:48:46.177263",
     "exception": false,
     "start_time": "2023-01-04T17:48:46.171372",
     "status": "completed"
    },
    "tags": []
   },
   "source": [
    "# Step 2: Generate test predictions\n",
    "\n",
    "Great. You know how to evaluate what makes an accurate model. Now it's time to go through the modeling process and make predictions. In the line below, create a Random Forest model with the variable name `my_model`."
   ]
  },
  {
   "cell_type": "code",
   "execution_count": 8,
   "id": "08d11ffa",
   "metadata": {
    "execution": {
     "iopub.execute_input": "2023-01-04T17:48:46.192745Z",
     "iopub.status.busy": "2023-01-04T17:48:46.192189Z",
     "iopub.status.idle": "2023-01-04T17:48:46.203727Z",
     "shell.execute_reply": "2023-01-04T17:48:46.202274Z"
    },
    "papermill": {
     "duration": 0.022352,
     "end_time": "2023-01-04T17:48:46.206462",
     "exception": false,
     "start_time": "2023-01-04T17:48:46.184110",
     "status": "completed"
    },
    "tags": []
   },
   "outputs": [
    {
     "data": {
      "application/javascript": [
       "parent.postMessage({\"jupyterEvent\": \"custom.exercise_interaction\", \"data\": {\"outcomeType\": 1, \"valueTowardsCompletion\": 0.5, \"interactionType\": 1, \"questionType\": 2, \"questionId\": \"2_Predictions\", \"learnToolsVersion\": \"0.3.4\", \"failureMessage\": \"\", \"exceptionClass\": \"\", \"trace\": \"\"}}, \"*\")"
      ],
      "text/plain": [
       "<IPython.core.display.Javascript object>"
      ]
     },
     "metadata": {},
     "output_type": "display_data"
    },
    {
     "data": {
      "text/markdown": [
       "<span style=\"color:#33cc33\">Correct</span>"
      ],
      "text/plain": [
       "Correct"
      ]
     },
     "metadata": {},
     "output_type": "display_data"
    }
   ],
   "source": [
    "# Define a model\n",
    "my_model = RandomForestRegressor() # Your code here\n",
    "\n",
    "# Check your answer\n",
    "step_2.check()"
   ]
  },
  {
   "cell_type": "code",
   "execution_count": 9,
   "id": "3448b0d8",
   "metadata": {
    "execution": {
     "iopub.execute_input": "2023-01-04T17:48:46.222204Z",
     "iopub.status.busy": "2023-01-04T17:48:46.221692Z",
     "iopub.status.idle": "2023-01-04T17:48:46.227661Z",
     "shell.execute_reply": "2023-01-04T17:48:46.226191Z"
    },
    "papermill": {
     "duration": 0.017267,
     "end_time": "2023-01-04T17:48:46.230411",
     "exception": false,
     "start_time": "2023-01-04T17:48:46.213144",
     "status": "completed"
    },
    "tags": []
   },
   "outputs": [],
   "source": [
    "# Lines below will give you a hint or solution code\n",
    "#step_2.hint()\n",
    "#step_2.solution()"
   ]
  },
  {
   "cell_type": "markdown",
   "id": "9f9b8635",
   "metadata": {
    "papermill": {
     "duration": 0.006299,
     "end_time": "2023-01-04T17:48:46.243162",
     "exception": false,
     "start_time": "2023-01-04T17:48:46.236863",
     "status": "completed"
    },
    "tags": []
   },
   "source": [
    "Run the next code cell without changes.  The code fits the model to the training and validation data, and then generates test predictions that are saved to a CSV file.  These test predictions can be submitted directly to the competition!"
   ]
  },
  {
   "cell_type": "code",
   "execution_count": 10,
   "id": "3b4dd21d",
   "metadata": {
    "execution": {
     "iopub.execute_input": "2023-01-04T17:48:46.259656Z",
     "iopub.status.busy": "2023-01-04T17:48:46.259188Z",
     "iopub.status.idle": "2023-01-04T17:48:46.971091Z",
     "shell.execute_reply": "2023-01-04T17:48:46.969587Z"
    },
    "papermill": {
     "duration": 0.723864,
     "end_time": "2023-01-04T17:48:46.974292",
     "exception": false,
     "start_time": "2023-01-04T17:48:46.250428",
     "status": "completed"
    },
    "tags": []
   },
   "outputs": [],
   "source": [
    "# Fit the model to the training data\n",
    "my_model.fit(X, y)\n",
    "\n",
    "# Generate test predictions\n",
    "preds_test = my_model.predict(X_test)\n",
    "\n",
    "# Save predictions in format used for competition scoring\n",
    "output = pd.DataFrame({'Id': X_test.index,\n",
    "                       'SalePrice': preds_test})\n",
    "output.to_csv('submission.csv', index=False)"
   ]
  },
  {
   "cell_type": "markdown",
   "id": "a1a985bf",
   "metadata": {
    "papermill": {
     "duration": 0.006792,
     "end_time": "2023-01-04T17:48:46.987637",
     "exception": false,
     "start_time": "2023-01-04T17:48:46.980845",
     "status": "completed"
    },
    "tags": []
   },
   "source": [
    "# Submit your results\n",
    "\n",
    "Once you have successfully completed Step 2, you're ready to submit your results to the leaderboard!  First, you'll need to join the competition if you haven't already.  So open a new window by clicking on [this link](https://www.kaggle.com/c/home-data-for-ml-course).  Then click on the **Join Competition** button.  _(If you see a \"Submit Predictions\" button instead of a \"Join Competition\" button, you have already joined the competition, and don't need to do so again.)_\n",
    "\n",
    "Next, follow the instructions below:\n",
    "1. Begin by clicking on the **Save Version** button in the top right corner of the window.  This will generate a pop-up window.  \n",
    "2. Ensure that the **Save and Run All** option is selected, and then click on the **Save** button.\n",
    "3. This generates a window in the bottom left corner of the notebook.  After it has finished running, click on the number to the right of the **Save Version** button.  This pulls up a list of versions on the right of the screen.  Click on the ellipsis **(...)** to the right of the most recent version, and select **Open in Viewer**.  This brings you into view mode of the same page. You will need to scroll down to get back to these instructions.\n",
    "4. Click on the **Output** tab on the right of the screen.  Then, click on the file you would like to submit, and click on the **Submit** button to submit your results to the leaderboard.\n",
    "\n",
    "You have now successfully submitted to the competition!\n",
    "\n",
    "If you want to keep working to improve your performance, select the **Edit** button in the top right of the screen. Then you can change your code and repeat the process. There's a lot of room to improve, and you will climb up the leaderboard as you work.\n"
   ]
  },
  {
   "cell_type": "markdown",
   "id": "bdd6a1b0",
   "metadata": {
    "papermill": {
     "duration": 0.006366,
     "end_time": "2023-01-04T17:48:47.000998",
     "exception": false,
     "start_time": "2023-01-04T17:48:46.994632",
     "status": "completed"
    },
    "tags": []
   },
   "source": [
    "# Keep going\n",
    "\n",
    "You've made your first model. But how can you quickly make it better?\n",
    "\n",
    "Learn how to improve your competition results by incorporating columns with **[missing values](https://www.kaggle.com/alexisbcook/missing-values)**."
   ]
  },
  {
   "cell_type": "markdown",
   "id": "4acbd9aa",
   "metadata": {
    "papermill": {
     "duration": 0.006038,
     "end_time": "2023-01-04T17:48:47.014115",
     "exception": false,
     "start_time": "2023-01-04T17:48:47.008077",
     "status": "completed"
    },
    "tags": []
   },
   "source": [
    "---\n",
    "\n",
    "\n",
    "\n",
    "\n",
    "*Have questions or comments? Visit the [course discussion forum](https://www.kaggle.com/learn/intermediate-machine-learning/discussion) to chat with other learners.*"
   ]
  }
 ],
 "metadata": {
  "kernelspec": {
   "display_name": "Python 3",
   "language": "python",
   "name": "python3"
  },
  "language_info": {
   "codemirror_mode": {
    "name": "ipython",
    "version": 3
   },
   "file_extension": ".py",
   "mimetype": "text/x-python",
   "name": "python",
   "nbconvert_exporter": "python",
   "pygments_lexer": "ipython3",
   "version": "3.7.12"
  },
  "papermill": {
   "default_parameters": {},
   "duration": 22.406572,
   "end_time": "2023-01-04T17:48:48.047627",
   "environment_variables": {},
   "exception": null,
   "input_path": "__notebook__.ipynb",
   "output_path": "__notebook__.ipynb",
   "parameters": {},
   "start_time": "2023-01-04T17:48:25.641055",
   "version": "2.3.4"
  }
 },
 "nbformat": 4,
 "nbformat_minor": 5
}
