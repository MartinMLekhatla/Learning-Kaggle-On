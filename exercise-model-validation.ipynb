{
 "cells": [
  {
   "cell_type": "markdown",
   "id": "9856a62d",
   "metadata": {
    "papermill": {
     "duration": 0.004656,
     "end_time": "2022-12-30T02:30:44.369120",
     "exception": false,
     "start_time": "2022-12-30T02:30:44.364464",
     "status": "completed"
    },
    "tags": []
   },
   "source": [
    "**This notebook is an exercise in the [Introduction to Machine Learning](https://www.kaggle.com/learn/intro-to-machine-learning) course.  You can reference the tutorial at [this link](https://www.kaggle.com/dansbecker/model-validation).**\n",
    "\n",
    "---\n"
   ]
  },
  {
   "cell_type": "markdown",
   "id": "495efbc4",
   "metadata": {
    "papermill": {
     "duration": 0.003616,
     "end_time": "2022-12-30T02:30:44.376760",
     "exception": false,
     "start_time": "2022-12-30T02:30:44.373144",
     "status": "completed"
    },
    "tags": []
   },
   "source": [
    "## Recap\n",
    "You've built a model. In this exercise you will test how good your model is.\n",
    "\n",
    "Run the cell below to set up your coding environment where the previous exercise left off."
   ]
  },
  {
   "cell_type": "code",
   "execution_count": 1,
   "id": "8232119c",
   "metadata": {
    "execution": {
     "iopub.execute_input": "2022-12-30T02:30:44.386362Z",
     "iopub.status.busy": "2022-12-30T02:30:44.385826Z",
     "iopub.status.idle": "2022-12-30T02:30:45.744373Z",
     "shell.execute_reply": "2022-12-30T02:30:45.743395Z"
    },
    "papermill": {
     "duration": 1.366325,
     "end_time": "2022-12-30T02:30:45.746862",
     "exception": false,
     "start_time": "2022-12-30T02:30:44.380537",
     "status": "completed"
    },
    "tags": []
   },
   "outputs": [
    {
     "name": "stdout",
     "output_type": "stream",
     "text": [
      "First in-sample predictions: [208500. 181500. 223500. 140000. 250000.]\n",
      "Actual target values for those homes: [208500, 181500, 223500, 140000, 250000]\n",
      "Setup Complete\n"
     ]
    }
   ],
   "source": [
    "# Code you have previously used to load data\n",
    "import pandas as pd\n",
    "from sklearn.tree import DecisionTreeRegressor\n",
    "\n",
    "# Path of the file to read\n",
    "iowa_file_path = '../input/home-data-for-ml-course/train.csv'\n",
    "\n",
    "home_data = pd.read_csv(iowa_file_path)\n",
    "y = home_data.SalePrice\n",
    "feature_columns = ['LotArea', 'YearBuilt', '1stFlrSF', '2ndFlrSF', 'FullBath', 'BedroomAbvGr', 'TotRmsAbvGrd']\n",
    "X = home_data[feature_columns]\n",
    "\n",
    "# Specify Model\n",
    "iowa_model = DecisionTreeRegressor()\n",
    "# Fit Model\n",
    "iowa_model.fit(X, y)\n",
    "\n",
    "print(\"First in-sample predictions:\", iowa_model.predict(X.head()))\n",
    "print(\"Actual target values for those homes:\", y.head().tolist())\n",
    "\n",
    "# Set up code checking\n",
    "from learntools.core import binder\n",
    "binder.bind(globals())\n",
    "from learntools.machine_learning.ex4 import *\n",
    "print(\"Setup Complete\")"
   ]
  },
  {
   "cell_type": "markdown",
   "id": "aec9d4e1",
   "metadata": {
    "papermill": {
     "duration": 0.00414,
     "end_time": "2022-12-30T02:30:45.755495",
     "exception": false,
     "start_time": "2022-12-30T02:30:45.751355",
     "status": "completed"
    },
    "tags": []
   },
   "source": [
    "# Exercises\n",
    "\n",
    "## Step 1: Split Your Data\n",
    "Use the `train_test_split` function to split up your data.\n",
    "\n",
    "Give it the argument `random_state=1` so the `check` functions know what to expect when verifying your code.\n",
    "\n",
    "Recall, your features are loaded in the DataFrame **X** and your target is loaded in **y**.\n"
   ]
  },
  {
   "cell_type": "code",
   "execution_count": 2,
   "id": "be8960a5",
   "metadata": {
    "execution": {
     "iopub.execute_input": "2022-12-30T02:30:45.765174Z",
     "iopub.status.busy": "2022-12-30T02:30:45.764810Z",
     "iopub.status.idle": "2022-12-30T02:30:45.780617Z",
     "shell.execute_reply": "2022-12-30T02:30:45.779950Z"
    },
    "papermill": {
     "duration": 0.022616,
     "end_time": "2022-12-30T02:30:45.782163",
     "exception": false,
     "start_time": "2022-12-30T02:30:45.759547",
     "status": "completed"
    },
    "tags": []
   },
   "outputs": [
    {
     "data": {
      "application/javascript": [
       "parent.postMessage({\"jupyterEvent\": \"custom.exercise_interaction\", \"data\": {\"outcomeType\": 1, \"valueTowardsCompletion\": 0.25, \"interactionType\": 1, \"questionType\": 2, \"questionId\": \"1_SplitData\", \"learnToolsVersion\": \"0.3.4\", \"failureMessage\": \"\", \"exceptionClass\": \"\", \"trace\": \"\"}}, \"*\")"
      ],
      "text/plain": [
       "<IPython.core.display.Javascript object>"
      ]
     },
     "metadata": {},
     "output_type": "display_data"
    },
    {
     "data": {
      "text/markdown": [
       "<span style=\"color:#33cc33\">Correct</span>"
      ],
      "text/plain": [
       "Correct"
      ]
     },
     "metadata": {},
     "output_type": "display_data"
    }
   ],
   "source": [
    "# Import the train_test_split function and uncomment\n",
    "from sklearn.model_selection import train_test_split\n",
    "\n",
    "# fill in and uncomment\n",
    "train_X, val_X, train_y, val_y = train_test_split(X, y, random_state = 1)\n",
    "\n",
    "# Check your answer\n",
    "step_1.check()"
   ]
  },
  {
   "cell_type": "code",
   "execution_count": 3,
   "id": "3de29aef",
   "metadata": {
    "execution": {
     "iopub.execute_input": "2022-12-30T02:30:45.792459Z",
     "iopub.status.busy": "2022-12-30T02:30:45.791697Z",
     "iopub.status.idle": "2022-12-30T02:30:45.795609Z",
     "shell.execute_reply": "2022-12-30T02:30:45.794575Z"
    },
    "papermill": {
     "duration": 0.011288,
     "end_time": "2022-12-30T02:30:45.797874",
     "exception": false,
     "start_time": "2022-12-30T02:30:45.786586",
     "status": "completed"
    },
    "tags": []
   },
   "outputs": [],
   "source": [
    "# The lines below will show you a hint or the solution.\n",
    "# step_1.hint() \n",
    "# step_1.solution()\n"
   ]
  },
  {
   "cell_type": "markdown",
   "id": "91f69a03",
   "metadata": {
    "papermill": {
     "duration": 0.004171,
     "end_time": "2022-12-30T02:30:45.806700",
     "exception": false,
     "start_time": "2022-12-30T02:30:45.802529",
     "status": "completed"
    },
    "tags": []
   },
   "source": [
    "## Step 2: Specify and Fit the Model\n",
    "\n",
    "Create a `DecisionTreeRegressor` model and fit it to the relevant data.\n",
    "Set `random_state` to 1 again when creating the model."
   ]
  },
  {
   "cell_type": "code",
   "execution_count": 4,
   "id": "8d3b5b30",
   "metadata": {
    "execution": {
     "iopub.execute_input": "2022-12-30T02:30:45.817238Z",
     "iopub.status.busy": "2022-12-30T02:30:45.816649Z",
     "iopub.status.idle": "2022-12-30T02:30:45.839858Z",
     "shell.execute_reply": "2022-12-30T02:30:45.838485Z"
    },
    "papermill": {
     "duration": 0.030685,
     "end_time": "2022-12-30T02:30:45.841842",
     "exception": false,
     "start_time": "2022-12-30T02:30:45.811157",
     "status": "completed"
    },
    "tags": []
   },
   "outputs": [
    {
     "name": "stdout",
     "output_type": "stream",
     "text": [
      "[186500. 184000. 130000.  92000. 164500. 220000. 335000. 144152. 215000.\n",
      " 262000.]\n",
      "[186500. 184000. 130000.  92000. 164500. 220000. 335000. 144152. 215000.\n",
      " 262000.]\n"
     ]
    },
    {
     "data": {
      "application/javascript": [
       "parent.postMessage({\"jupyterEvent\": \"custom.exercise_interaction\", \"data\": {\"outcomeType\": 1, \"valueTowardsCompletion\": 0.25, \"interactionType\": 1, \"questionType\": 2, \"questionId\": \"2_FitModelWithTrain\", \"learnToolsVersion\": \"0.3.4\", \"failureMessage\": \"\", \"exceptionClass\": \"\", \"trace\": \"\"}}, \"*\")"
      ],
      "text/plain": [
       "<IPython.core.display.Javascript object>"
      ]
     },
     "metadata": {},
     "output_type": "display_data"
    },
    {
     "data": {
      "text/markdown": [
       "<span style=\"color:#33cc33\">Correct</span>"
      ],
      "text/plain": [
       "Correct"
      ]
     },
     "metadata": {},
     "output_type": "display_data"
    }
   ],
   "source": [
    "# You imported DecisionTreeRegressor in your last exercise\n",
    "# and that code has been copied to the setup code above. So, no need to\n",
    "# import it again\n",
    "\n",
    "# Specify the model\n",
    "iowa_model = DecisionTreeRegressor(random_state=1)\n",
    "\n",
    "# Fit iowa_model with the training data.\n",
    "iowa_model.fit(train_X, train_y)\n",
    "\n",
    "# Check your answer\n",
    "step_2.check()"
   ]
  },
  {
   "cell_type": "code",
   "execution_count": 5,
   "id": "bf7bbd6e",
   "metadata": {
    "execution": {
     "iopub.execute_input": "2022-12-30T02:30:45.852953Z",
     "iopub.status.busy": "2022-12-30T02:30:45.852089Z",
     "iopub.status.idle": "2022-12-30T02:30:45.856082Z",
     "shell.execute_reply": "2022-12-30T02:30:45.855183Z"
    },
    "papermill": {
     "duration": 0.011701,
     "end_time": "2022-12-30T02:30:45.858177",
     "exception": false,
     "start_time": "2022-12-30T02:30:45.846476",
     "status": "completed"
    },
    "tags": []
   },
   "outputs": [],
   "source": [
    "# step_2.hint()\n",
    "# step_2.solution()"
   ]
  },
  {
   "cell_type": "markdown",
   "id": "9cee0bdf",
   "metadata": {
    "papermill": {
     "duration": 0.004451,
     "end_time": "2022-12-30T02:30:45.867535",
     "exception": false,
     "start_time": "2022-12-30T02:30:45.863084",
     "status": "completed"
    },
    "tags": []
   },
   "source": [
    "## Step 3: Make Predictions with Validation data\n"
   ]
  },
  {
   "cell_type": "code",
   "execution_count": 6,
   "id": "7d377565",
   "metadata": {
    "execution": {
     "iopub.execute_input": "2022-12-30T02:30:45.878362Z",
     "iopub.status.busy": "2022-12-30T02:30:45.877903Z",
     "iopub.status.idle": "2022-12-30T02:30:45.887835Z",
     "shell.execute_reply": "2022-12-30T02:30:45.887048Z"
    },
    "papermill": {
     "duration": 0.01737,
     "end_time": "2022-12-30T02:30:45.889524",
     "exception": false,
     "start_time": "2022-12-30T02:30:45.872154",
     "status": "completed"
    },
    "tags": []
   },
   "outputs": [
    {
     "data": {
      "application/javascript": [
       "parent.postMessage({\"jupyterEvent\": \"custom.exercise_interaction\", \"data\": {\"outcomeType\": 1, \"valueTowardsCompletion\": 0.25, \"interactionType\": 1, \"questionType\": 2, \"questionId\": \"3_ValPreds\", \"learnToolsVersion\": \"0.3.4\", \"failureMessage\": \"\", \"exceptionClass\": \"\", \"trace\": \"\"}}, \"*\")"
      ],
      "text/plain": [
       "<IPython.core.display.Javascript object>"
      ]
     },
     "metadata": {},
     "output_type": "display_data"
    },
    {
     "data": {
      "text/markdown": [
       "<span style=\"color:#33cc33\">Correct</span>"
      ],
      "text/plain": [
       "Correct"
      ]
     },
     "metadata": {},
     "output_type": "display_data"
    }
   ],
   "source": [
    "# Predict with all validation observations\n",
    "val_predictions = iowa_model.predict(val_X)\n",
    "\n",
    "# Check your answer\n",
    "step_3.check()"
   ]
  },
  {
   "cell_type": "code",
   "execution_count": 7,
   "id": "61003cae",
   "metadata": {
    "execution": {
     "iopub.execute_input": "2022-12-30T02:30:45.902787Z",
     "iopub.status.busy": "2022-12-30T02:30:45.901754Z",
     "iopub.status.idle": "2022-12-30T02:30:45.906998Z",
     "shell.execute_reply": "2022-12-30T02:30:45.905500Z"
    },
    "papermill": {
     "duration": 0.013703,
     "end_time": "2022-12-30T02:30:45.909262",
     "exception": false,
     "start_time": "2022-12-30T02:30:45.895559",
     "status": "completed"
    },
    "tags": []
   },
   "outputs": [],
   "source": [
    "# step_3.hint()\n",
    "# step_3.solution()"
   ]
  },
  {
   "cell_type": "markdown",
   "id": "322b4183",
   "metadata": {
    "papermill": {
     "duration": 0.004517,
     "end_time": "2022-12-30T02:30:45.918780",
     "exception": false,
     "start_time": "2022-12-30T02:30:45.914263",
     "status": "completed"
    },
    "tags": []
   },
   "source": [
    "Inspect your predictions and actual values from validation data."
   ]
  },
  {
   "cell_type": "code",
   "execution_count": 8,
   "id": "d1afb0aa",
   "metadata": {
    "execution": {
     "iopub.execute_input": "2022-12-30T02:30:45.930820Z",
     "iopub.status.busy": "2022-12-30T02:30:45.930145Z",
     "iopub.status.idle": "2022-12-30T02:30:45.936490Z",
     "shell.execute_reply": "2022-12-30T02:30:45.935293Z"
    },
    "papermill": {
     "duration": 0.015147,
     "end_time": "2022-12-30T02:30:45.939055",
     "exception": false,
     "start_time": "2022-12-30T02:30:45.923908",
     "status": "completed"
    },
    "tags": []
   },
   "outputs": [
    {
     "name": "stdout",
     "output_type": "stream",
     "text": [
      "[186500. 184000. 130000.  92000. 164500.]\n",
      "258     231500\n",
      "267     179500\n",
      "288     122000\n",
      "649      84500\n",
      "1233    142000\n",
      "Name: SalePrice, dtype: int64\n"
     ]
    }
   ],
   "source": [
    "# print the top few validation predictions\n",
    "print(val_predictions[:5])\n",
    "# print the top few actual prices from validation data\n",
    "print(val_y.head())"
   ]
  },
  {
   "cell_type": "markdown",
   "id": "26ce1b61",
   "metadata": {
    "papermill": {
     "duration": 0.004681,
     "end_time": "2022-12-30T02:30:45.948867",
     "exception": false,
     "start_time": "2022-12-30T02:30:45.944186",
     "status": "completed"
    },
    "tags": []
   },
   "source": [
    "What do you notice that is different from what you saw with in-sample predictions (which are printed after the top code cell in this page).\n",
    "\n",
    "Do you remember why validation predictions differ from in-sample (or training) predictions? This is an important idea from the last lesson.\n",
    "\n",
    "## Step 4: Calculate the Mean Absolute Error in Validation Data\n"
   ]
  },
  {
   "cell_type": "code",
   "execution_count": 9,
   "id": "fa8d5168",
   "metadata": {
    "execution": {
     "iopub.execute_input": "2022-12-30T02:30:45.960717Z",
     "iopub.status.busy": "2022-12-30T02:30:45.959932Z",
     "iopub.status.idle": "2022-12-30T02:30:45.971700Z",
     "shell.execute_reply": "2022-12-30T02:30:45.970363Z"
    },
    "papermill": {
     "duration": 0.020664,
     "end_time": "2022-12-30T02:30:45.974307",
     "exception": false,
     "start_time": "2022-12-30T02:30:45.953643",
     "status": "completed"
    },
    "tags": []
   },
   "outputs": [
    {
     "name": "stdout",
     "output_type": "stream",
     "text": [
      "29652.931506849316\n"
     ]
    },
    {
     "data": {
      "application/javascript": [
       "parent.postMessage({\"jupyterEvent\": \"custom.exercise_interaction\", \"data\": {\"outcomeType\": 1, \"valueTowardsCompletion\": 0.25, \"interactionType\": 1, \"questionType\": 1, \"questionId\": \"4_MAE\", \"learnToolsVersion\": \"0.3.4\", \"failureMessage\": \"\", \"exceptionClass\": \"\", \"trace\": \"\"}}, \"*\")"
      ],
      "text/plain": [
       "<IPython.core.display.Javascript object>"
      ]
     },
     "metadata": {},
     "output_type": "display_data"
    },
    {
     "data": {
      "text/markdown": [
       "<span style=\"color:#33cc33\">Correct</span>"
      ],
      "text/plain": [
       "Correct"
      ]
     },
     "metadata": {},
     "output_type": "display_data"
    }
   ],
   "source": [
    "from sklearn.metrics import mean_absolute_error\n",
    "val_mae = mean_absolute_error(val_y, val_predictions)\n",
    "\n",
    "# uncomment following line to see the validation_mae\n",
    "print(val_mae)\n",
    "\n",
    "# Check your answer\n",
    "step_4.check()"
   ]
  },
  {
   "cell_type": "code",
   "execution_count": 10,
   "id": "666a5055",
   "metadata": {
    "execution": {
     "iopub.execute_input": "2022-12-30T02:30:45.986480Z",
     "iopub.status.busy": "2022-12-30T02:30:45.986068Z",
     "iopub.status.idle": "2022-12-30T02:30:45.990993Z",
     "shell.execute_reply": "2022-12-30T02:30:45.989569Z"
    },
    "papermill": {
     "duration": 0.013832,
     "end_time": "2022-12-30T02:30:45.993668",
     "exception": false,
     "start_time": "2022-12-30T02:30:45.979836",
     "status": "completed"
    },
    "tags": []
   },
   "outputs": [],
   "source": [
    "# step_4.hint()\n",
    "# step_4.solution()"
   ]
  },
  {
   "cell_type": "markdown",
   "id": "af02ae61",
   "metadata": {
    "papermill": {
     "duration": 0.005292,
     "end_time": "2022-12-30T02:30:46.004733",
     "exception": false,
     "start_time": "2022-12-30T02:30:45.999441",
     "status": "completed"
    },
    "tags": []
   },
   "source": [
    "Is that MAE good?  There isn't a general rule for what values are good that applies across applications. But you'll see how to use (and improve) this number in the next step.\n",
    "\n",
    "# Keep Going\n",
    "\n",
    "You are ready for **[Underfitting and Overfitting](https://www.kaggle.com/dansbecker/underfitting-and-overfitting).**\n"
   ]
  },
  {
   "cell_type": "markdown",
   "id": "6014be77",
   "metadata": {
    "papermill": {
     "duration": 0.004823,
     "end_time": "2022-12-30T02:30:46.014831",
     "exception": false,
     "start_time": "2022-12-30T02:30:46.010008",
     "status": "completed"
    },
    "tags": []
   },
   "source": [
    "---\n",
    "\n",
    "\n",
    "\n",
    "\n",
    "*Have questions or comments? Visit the [course discussion forum](https://www.kaggle.com/learn/intro-to-machine-learning/discussion) to chat with other learners.*"
   ]
  }
 ],
 "metadata": {
  "kernelspec": {
   "display_name": "Python 3",
   "language": "python",
   "name": "python3"
  },
  "language_info": {
   "codemirror_mode": {
    "name": "ipython",
    "version": 3
   },
   "file_extension": ".py",
   "mimetype": "text/x-python",
   "name": "python",
   "nbconvert_exporter": "python",
   "pygments_lexer": "ipython3",
   "version": "3.7.12"
  },
  "papermill": {
   "default_parameters": {},
   "duration": 10.004027,
   "end_time": "2022-12-30T02:30:46.742099",
   "environment_variables": {},
   "exception": null,
   "input_path": "__notebook__.ipynb",
   "output_path": "__notebook__.ipynb",
   "parameters": {},
   "start_time": "2022-12-30T02:30:36.738072",
   "version": "2.3.4"
  }
 },
 "nbformat": 4,
 "nbformat_minor": 5
}
