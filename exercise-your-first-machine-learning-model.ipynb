{
 "cells": [
  {
   "cell_type": "markdown",
   "id": "7ba4837f",
   "metadata": {
    "papermill": {
     "duration": 0.006679,
     "end_time": "2022-12-28T11:40:48.104297",
     "exception": false,
     "start_time": "2022-12-28T11:40:48.097618",
     "status": "completed"
    },
    "tags": []
   },
   "source": [
    "**This notebook is an exercise in the [Introduction to Machine Learning](https://www.kaggle.com/learn/intro-to-machine-learning) course.  You can reference the tutorial at [this link](https://www.kaggle.com/dansbecker/your-first-machine-learning-model).**\n",
    "\n",
    "---\n"
   ]
  },
  {
   "cell_type": "markdown",
   "id": "e8216b43",
   "metadata": {
    "papermill": {
     "duration": 0.006396,
     "end_time": "2022-12-28T11:40:48.119204",
     "exception": false,
     "start_time": "2022-12-28T11:40:48.112808",
     "status": "completed"
    },
    "tags": []
   },
   "source": [
    "## Recap\n",
    "So far, you have loaded your data and reviewed it with the following code. Run this cell to set up your coding environment where the previous step left off."
   ]
  },
  {
   "cell_type": "code",
   "execution_count": 1,
   "id": "5950c983",
   "metadata": {
    "execution": {
     "iopub.execute_input": "2022-12-28T11:40:48.136809Z",
     "iopub.status.busy": "2022-12-28T11:40:48.136171Z",
     "iopub.status.idle": "2022-12-28T11:40:49.760285Z",
     "shell.execute_reply": "2022-12-28T11:40:49.758570Z"
    },
    "papermill": {
     "duration": 1.636338,
     "end_time": "2022-12-28T11:40:49.763704",
     "exception": false,
     "start_time": "2022-12-28T11:40:48.127366",
     "status": "completed"
    },
    "tags": []
   },
   "outputs": [
    {
     "name": "stdout",
     "output_type": "stream",
     "text": [
      "Setup Complete\n"
     ]
    }
   ],
   "source": [
    "# Code you have previously used to load data\n",
    "import pandas as pd\n",
    "\n",
    "# Path of the file to read\n",
    "iowa_file_path = '../input/home-data-for-ml-course/train.csv'\n",
    "\n",
    "home_data = pd.read_csv(iowa_file_path)\n",
    "\n",
    "# Set up code checking\n",
    "from learntools.core import binder\n",
    "binder.bind(globals())\n",
    "from learntools.machine_learning.ex3 import *\n",
    "\n",
    "print(\"Setup Complete\")"
   ]
  },
  {
   "cell_type": "markdown",
   "id": "c10232ae",
   "metadata": {
    "papermill": {
     "duration": 0.005914,
     "end_time": "2022-12-28T11:40:49.775741",
     "exception": false,
     "start_time": "2022-12-28T11:40:49.769827",
     "status": "completed"
    },
    "tags": []
   },
   "source": [
    "# Exercises\n",
    "\n",
    "## Step 1: Specify Prediction Target\n",
    "Select the target variable, which corresponds to the sales price. Save this to a new variable called `y`. You'll need to print a list of the columns to find the name of the column you need.\n"
   ]
  },
  {
   "cell_type": "code",
   "execution_count": 2,
   "id": "0b981c02",
   "metadata": {
    "execution": {
     "iopub.execute_input": "2022-12-28T11:40:49.790989Z",
     "iopub.status.busy": "2022-12-28T11:40:49.790480Z",
     "iopub.status.idle": "2022-12-28T11:40:49.802269Z",
     "shell.execute_reply": "2022-12-28T11:40:49.800764Z"
    },
    "papermill": {
     "duration": 0.023451,
     "end_time": "2022-12-28T11:40:49.805543",
     "exception": false,
     "start_time": "2022-12-28T11:40:49.782092",
     "status": "completed"
    },
    "tags": []
   },
   "outputs": [
    {
     "data": {
      "text/plain": [
       "Index(['Id', 'MSSubClass', 'MSZoning', 'LotFrontage', 'LotArea', 'Street',\n",
       "       'Alley', 'LotShape', 'LandContour', 'Utilities', 'LotConfig',\n",
       "       'LandSlope', 'Neighborhood', 'Condition1', 'Condition2', 'BldgType',\n",
       "       'HouseStyle', 'OverallQual', 'OverallCond', 'YearBuilt', 'YearRemodAdd',\n",
       "       'RoofStyle', 'RoofMatl', 'Exterior1st', 'Exterior2nd', 'MasVnrType',\n",
       "       'MasVnrArea', 'ExterQual', 'ExterCond', 'Foundation', 'BsmtQual',\n",
       "       'BsmtCond', 'BsmtExposure', 'BsmtFinType1', 'BsmtFinSF1',\n",
       "       'BsmtFinType2', 'BsmtFinSF2', 'BsmtUnfSF', 'TotalBsmtSF', 'Heating',\n",
       "       'HeatingQC', 'CentralAir', 'Electrical', '1stFlrSF', '2ndFlrSF',\n",
       "       'LowQualFinSF', 'GrLivArea', 'BsmtFullBath', 'BsmtHalfBath', 'FullBath',\n",
       "       'HalfBath', 'BedroomAbvGr', 'KitchenAbvGr', 'KitchenQual',\n",
       "       'TotRmsAbvGrd', 'Functional', 'Fireplaces', 'FireplaceQu', 'GarageType',\n",
       "       'GarageYrBlt', 'GarageFinish', 'GarageCars', 'GarageArea', 'GarageQual',\n",
       "       'GarageCond', 'PavedDrive', 'WoodDeckSF', 'OpenPorchSF',\n",
       "       'EnclosedPorch', '3SsnPorch', 'ScreenPorch', 'PoolArea', 'PoolQC',\n",
       "       'Fence', 'MiscFeature', 'MiscVal', 'MoSold', 'YrSold', 'SaleType',\n",
       "       'SaleCondition', 'SalePrice'],\n",
       "      dtype='object')"
      ]
     },
     "execution_count": 2,
     "metadata": {},
     "output_type": "execute_result"
    }
   ],
   "source": [
    "# print the list of columns in the dataset to find the name of the prediction target\n",
    "home_data.columns"
   ]
  },
  {
   "cell_type": "code",
   "execution_count": 3,
   "id": "23052a29",
   "metadata": {
    "execution": {
     "iopub.execute_input": "2022-12-28T11:40:49.820814Z",
     "iopub.status.busy": "2022-12-28T11:40:49.819859Z",
     "iopub.status.idle": "2022-12-28T11:40:49.836771Z",
     "shell.execute_reply": "2022-12-28T11:40:49.835371Z"
    },
    "papermill": {
     "duration": 0.028155,
     "end_time": "2022-12-28T11:40:49.840006",
     "exception": false,
     "start_time": "2022-12-28T11:40:49.811851",
     "status": "completed"
    },
    "tags": []
   },
   "outputs": [
    {
     "data": {
      "application/javascript": [
       "parent.postMessage({\"jupyterEvent\": \"custom.exercise_interaction\", \"data\": {\"outcomeType\": 1, \"valueTowardsCompletion\": 0.25, \"interactionType\": 1, \"questionType\": 2, \"questionId\": \"1_SetTarget\", \"learnToolsVersion\": \"0.3.4\", \"failureMessage\": \"\", \"exceptionClass\": \"\", \"trace\": \"\"}}, \"*\")"
      ],
      "text/plain": [
       "<IPython.core.display.Javascript object>"
      ]
     },
     "metadata": {},
     "output_type": "display_data"
    },
    {
     "data": {
      "text/markdown": [
       "<span style=\"color:#33cc33\">Correct</span>"
      ],
      "text/plain": [
       "Correct"
      ]
     },
     "metadata": {},
     "output_type": "display_data"
    }
   ],
   "source": [
    "y = home_data.SalePrice\n",
    "\n",
    "# Check your answer\n",
    "step_1.check()"
   ]
  },
  {
   "cell_type": "code",
   "execution_count": 4,
   "id": "26495601",
   "metadata": {
    "execution": {
     "iopub.execute_input": "2022-12-28T11:40:49.855407Z",
     "iopub.status.busy": "2022-12-28T11:40:49.854452Z",
     "iopub.status.idle": "2022-12-28T11:40:49.860322Z",
     "shell.execute_reply": "2022-12-28T11:40:49.859010Z"
    },
    "papermill": {
     "duration": 0.017159,
     "end_time": "2022-12-28T11:40:49.863647",
     "exception": false,
     "start_time": "2022-12-28T11:40:49.846488",
     "status": "completed"
    },
    "tags": []
   },
   "outputs": [],
   "source": [
    "# The lines below will show you a hint or the solution.\n",
    "# step_1.hint() \n",
    "# step_1.solution()"
   ]
  },
  {
   "cell_type": "markdown",
   "id": "2d28641c",
   "metadata": {
    "papermill": {
     "duration": 0.007096,
     "end_time": "2022-12-28T11:40:49.880163",
     "exception": false,
     "start_time": "2022-12-28T11:40:49.873067",
     "status": "completed"
    },
    "tags": []
   },
   "source": [
    "## Step 2: Create X\n",
    "Now you will create a DataFrame called `X` holding the predictive features.\n",
    "\n",
    "Since you want only some columns from the original data, you'll first create a list with the names of the columns you want in `X`.\n",
    "\n",
    "You'll use just the following columns in the list (you can copy and paste the whole list to save some typing, though you'll still need to add quotes):\n",
    "  * LotArea\n",
    "  * YearBuilt\n",
    "  * 1stFlrSF\n",
    "  * 2ndFlrSF\n",
    "  * FullBath\n",
    "  * BedroomAbvGr\n",
    "  * TotRmsAbvGrd\n",
    "\n",
    "After you've created that list of features, use it to create the DataFrame that you'll use to fit the model."
   ]
  },
  {
   "cell_type": "code",
   "execution_count": 5,
   "id": "532163fe",
   "metadata": {
    "execution": {
     "iopub.execute_input": "2022-12-28T11:40:49.899060Z",
     "iopub.status.busy": "2022-12-28T11:40:49.898582Z",
     "iopub.status.idle": "2022-12-28T11:40:49.917571Z",
     "shell.execute_reply": "2022-12-28T11:40:49.915990Z"
    },
    "papermill": {
     "duration": 0.033065,
     "end_time": "2022-12-28T11:40:49.922495",
     "exception": false,
     "start_time": "2022-12-28T11:40:49.889430",
     "status": "completed"
    },
    "tags": []
   },
   "outputs": [
    {
     "data": {
      "application/javascript": [
       "parent.postMessage({\"jupyterEvent\": \"custom.exercise_interaction\", \"data\": {\"outcomeType\": 1, \"valueTowardsCompletion\": 0.25, \"interactionType\": 1, \"questionType\": 2, \"questionId\": \"2_SelectPredictionData\", \"learnToolsVersion\": \"0.3.4\", \"failureMessage\": \"\", \"exceptionClass\": \"\", \"trace\": \"\"}}, \"*\")"
      ],
      "text/plain": [
       "<IPython.core.display.Javascript object>"
      ]
     },
     "metadata": {},
     "output_type": "display_data"
    },
    {
     "data": {
      "text/markdown": [
       "<span style=\"color:#33cc33\">Correct</span>"
      ],
      "text/plain": [
       "Correct"
      ]
     },
     "metadata": {},
     "output_type": "display_data"
    }
   ],
   "source": [
    "# Create the list of features below\n",
    "feature_names = ['LotArea', 'YearBuilt', '1stFlrSF', '2ndFlrSF', 'FullBath', 'BedroomAbvGr', 'TotRmsAbvGrd']\n",
    "\n",
    "# Select data corresponding to features in feature_names\n",
    "X = home_data[feature_names]\n",
    "\n",
    "# Check your answer\n",
    "step_2.check()"
   ]
  },
  {
   "cell_type": "code",
   "execution_count": 6,
   "id": "d3c9c496",
   "metadata": {
    "execution": {
     "iopub.execute_input": "2022-12-28T11:40:49.944453Z",
     "iopub.status.busy": "2022-12-28T11:40:49.943587Z",
     "iopub.status.idle": "2022-12-28T11:40:49.950530Z",
     "shell.execute_reply": "2022-12-28T11:40:49.948998Z"
    },
    "papermill": {
     "duration": 0.020488,
     "end_time": "2022-12-28T11:40:49.953580",
     "exception": false,
     "start_time": "2022-12-28T11:40:49.933092",
     "status": "completed"
    },
    "tags": []
   },
   "outputs": [],
   "source": [
    "# step_2.hint()\n",
    "# step_2.solution()"
   ]
  },
  {
   "cell_type": "markdown",
   "id": "43a15fd7",
   "metadata": {
    "papermill": {
     "duration": 0.007203,
     "end_time": "2022-12-28T11:40:49.969363",
     "exception": false,
     "start_time": "2022-12-28T11:40:49.962160",
     "status": "completed"
    },
    "tags": []
   },
   "source": [
    "## Review Data\n",
    "Before building a model, take a quick look at **X** to verify it looks sensible"
   ]
  },
  {
   "cell_type": "code",
   "execution_count": 7,
   "id": "61a052de",
   "metadata": {
    "execution": {
     "iopub.execute_input": "2022-12-28T11:40:49.990711Z",
     "iopub.status.busy": "2022-12-28T11:40:49.990191Z",
     "iopub.status.idle": "2022-12-28T11:40:50.037274Z",
     "shell.execute_reply": "2022-12-28T11:40:50.035248Z"
    },
    "papermill": {
     "duration": 0.063287,
     "end_time": "2022-12-28T11:40:50.040927",
     "exception": false,
     "start_time": "2022-12-28T11:40:49.977640",
     "status": "completed"
    },
    "tags": []
   },
   "outputs": [
    {
     "name": "stdout",
     "output_type": "stream",
     "text": [
      "             LotArea    YearBuilt     1stFlrSF     2ndFlrSF     FullBath  \\\n",
      "count    1460.000000  1460.000000  1460.000000  1460.000000  1460.000000   \n",
      "mean    10516.828082  1971.267808  1162.626712   346.992466     1.565068   \n",
      "std      9981.264932    30.202904   386.587738   436.528436     0.550916   \n",
      "min      1300.000000  1872.000000   334.000000     0.000000     0.000000   \n",
      "25%      7553.500000  1954.000000   882.000000     0.000000     1.000000   \n",
      "50%      9478.500000  1973.000000  1087.000000     0.000000     2.000000   \n",
      "75%     11601.500000  2000.000000  1391.250000   728.000000     2.000000   \n",
      "max    215245.000000  2010.000000  4692.000000  2065.000000     3.000000   \n",
      "\n",
      "       BedroomAbvGr  TotRmsAbvGrd  \n",
      "count   1460.000000   1460.000000  \n",
      "mean       2.866438      6.517808  \n",
      "std        0.815778      1.625393  \n",
      "min        0.000000      2.000000  \n",
      "25%        2.000000      5.000000  \n",
      "50%        3.000000      6.000000  \n",
      "75%        3.000000      7.000000  \n",
      "max        8.000000     14.000000  \n",
      "   LotArea  YearBuilt  1stFlrSF  2ndFlrSF  FullBath  BedroomAbvGr  \\\n",
      "0     8450       2003       856       854         2             3   \n",
      "1     9600       1976      1262         0         2             3   \n",
      "2    11250       2001       920       866         2             3   \n",
      "3     9550       1915       961       756         1             3   \n",
      "4    14260       2000      1145      1053         2             4   \n",
      "\n",
      "   TotRmsAbvGrd  \n",
      "0             8  \n",
      "1             6  \n",
      "2             6  \n",
      "3             7  \n",
      "4             9  \n"
     ]
    }
   ],
   "source": [
    "# Review data\n",
    "# print description or statistics from X\n",
    "print(X.describe())\n",
    "\n",
    "# print the top few lines\n",
    "print(X.head())"
   ]
  },
  {
   "cell_type": "markdown",
   "id": "ea4e41a0",
   "metadata": {
    "papermill": {
     "duration": 0.006236,
     "end_time": "2022-12-28T11:40:50.054202",
     "exception": false,
     "start_time": "2022-12-28T11:40:50.047966",
     "status": "completed"
    },
    "tags": []
   },
   "source": [
    "## Step 3: Specify and Fit Model\n",
    "Create a `DecisionTreeRegressor` and save it iowa_model. Ensure you've done the relevant import from sklearn to run this command.\n",
    "\n",
    "Then fit the model you just created using the data in `X` and `y` that you saved above."
   ]
  },
  {
   "cell_type": "code",
   "execution_count": 8,
   "id": "197f7004",
   "metadata": {
    "execution": {
     "iopub.execute_input": "2022-12-28T11:40:50.069696Z",
     "iopub.status.busy": "2022-12-28T11:40:50.069191Z",
     "iopub.status.idle": "2022-12-28T11:40:50.074729Z",
     "shell.execute_reply": "2022-12-28T11:40:50.073803Z"
    },
    "papermill": {
     "duration": 0.016161,
     "end_time": "2022-12-28T11:40:50.076924",
     "exception": false,
     "start_time": "2022-12-28T11:40:50.060763",
     "status": "completed"
    },
    "tags": []
   },
   "outputs": [],
   "source": [
    "from sklearn.tree import DecisionTreeRegressor "
   ]
  },
  {
   "cell_type": "code",
   "execution_count": 9,
   "id": "ad1d0efe",
   "metadata": {
    "execution": {
     "iopub.execute_input": "2022-12-28T11:40:50.093429Z",
     "iopub.status.busy": "2022-12-28T11:40:50.092615Z",
     "iopub.status.idle": "2022-12-28T11:40:50.112367Z",
     "shell.execute_reply": "2022-12-28T11:40:50.110933Z"
    },
    "papermill": {
     "duration": 0.031737,
     "end_time": "2022-12-28T11:40:50.115368",
     "exception": false,
     "start_time": "2022-12-28T11:40:50.083631",
     "status": "completed"
    },
    "tags": []
   },
   "outputs": [
    {
     "data": {
      "application/javascript": [
       "parent.postMessage({\"jupyterEvent\": \"custom.exercise_interaction\", \"data\": {\"outcomeType\": 1, \"valueTowardsCompletion\": 0.25, \"interactionType\": 1, \"questionType\": 2, \"questionId\": \"3_CreateModel\", \"learnToolsVersion\": \"0.3.4\", \"failureMessage\": \"\", \"exceptionClass\": \"\", \"trace\": \"\"}}, \"*\")"
      ],
      "text/plain": [
       "<IPython.core.display.Javascript object>"
      ]
     },
     "metadata": {},
     "output_type": "display_data"
    },
    {
     "data": {
      "text/markdown": [
       "<span style=\"color:#33cc33\">Correct</span>"
      ],
      "text/plain": [
       "Correct"
      ]
     },
     "metadata": {},
     "output_type": "display_data"
    }
   ],
   "source": [
    "# from _ import _\n",
    "#specify the model. \n",
    "#For model reproducibility, set a numeric value for random_state when specifying the model\n",
    "iowa_model = DecisionTreeRegressor(random_state=1)\n",
    "\n",
    "# Fit the model\n",
    "iowa_model.fit(X, y)\n",
    "\n",
    "# Check your answer\n",
    "step_3.check()"
   ]
  },
  {
   "cell_type": "code",
   "execution_count": 10,
   "id": "a4d6c0d6",
   "metadata": {
    "execution": {
     "iopub.execute_input": "2022-12-28T11:40:50.131095Z",
     "iopub.status.busy": "2022-12-28T11:40:50.130622Z",
     "iopub.status.idle": "2022-12-28T11:40:50.136464Z",
     "shell.execute_reply": "2022-12-28T11:40:50.134517Z"
    },
    "papermill": {
     "duration": 0.017225,
     "end_time": "2022-12-28T11:40:50.139450",
     "exception": false,
     "start_time": "2022-12-28T11:40:50.122225",
     "status": "completed"
    },
    "tags": []
   },
   "outputs": [],
   "source": [
    "# step_3.hint()\n",
    "# step_3.solution()"
   ]
  },
  {
   "cell_type": "markdown",
   "id": "8a692080",
   "metadata": {
    "papermill": {
     "duration": 0.006434,
     "end_time": "2022-12-28T11:40:50.153073",
     "exception": false,
     "start_time": "2022-12-28T11:40:50.146639",
     "status": "completed"
    },
    "tags": []
   },
   "source": [
    "## Step 4: Make Predictions\n",
    "Make predictions with the model's `predict` command using `X` as the data. Save the results to a variable called `predictions`."
   ]
  },
  {
   "cell_type": "code",
   "execution_count": 11,
   "id": "fea2f799",
   "metadata": {
    "execution": {
     "iopub.execute_input": "2022-12-28T11:40:50.169050Z",
     "iopub.status.busy": "2022-12-28T11:40:50.168249Z",
     "iopub.status.idle": "2022-12-28T11:40:50.186269Z",
     "shell.execute_reply": "2022-12-28T11:40:50.184357Z"
    },
    "papermill": {
     "duration": 0.029297,
     "end_time": "2022-12-28T11:40:50.189154",
     "exception": false,
     "start_time": "2022-12-28T11:40:50.159857",
     "status": "completed"
    },
    "tags": []
   },
   "outputs": [
    {
     "name": "stdout",
     "output_type": "stream",
     "text": [
      "[208500. 181500. 223500. ... 266500. 142125. 147500.]\n"
     ]
    },
    {
     "data": {
      "application/javascript": [
       "parent.postMessage({\"jupyterEvent\": \"custom.exercise_interaction\", \"data\": {\"outcomeType\": 1, \"valueTowardsCompletion\": 0.25, \"interactionType\": 1, \"questionType\": 2, \"questionId\": \"4_MakePredictions\", \"learnToolsVersion\": \"0.3.4\", \"failureMessage\": \"\", \"exceptionClass\": \"\", \"trace\": \"\"}}, \"*\")"
      ],
      "text/plain": [
       "<IPython.core.display.Javascript object>"
      ]
     },
     "metadata": {},
     "output_type": "display_data"
    },
    {
     "data": {
      "text/markdown": [
       "<span style=\"color:#33cc33\">Correct</span>"
      ],
      "text/plain": [
       "Correct"
      ]
     },
     "metadata": {},
     "output_type": "display_data"
    }
   ],
   "source": [
    "predictions = iowa_model.predict(X)\n",
    "print(predictions)\n",
    "\n",
    "# Check your answer\n",
    "step_4.check()"
   ]
  },
  {
   "cell_type": "code",
   "execution_count": 12,
   "id": "aa550d10",
   "metadata": {
    "execution": {
     "iopub.execute_input": "2022-12-28T11:40:50.206264Z",
     "iopub.status.busy": "2022-12-28T11:40:50.205682Z",
     "iopub.status.idle": "2022-12-28T11:40:50.211411Z",
     "shell.execute_reply": "2022-12-28T11:40:50.209871Z"
    },
    "papermill": {
     "duration": 0.017968,
     "end_time": "2022-12-28T11:40:50.214308",
     "exception": false,
     "start_time": "2022-12-28T11:40:50.196340",
     "status": "completed"
    },
    "tags": []
   },
   "outputs": [],
   "source": [
    "# step_4.hint()\n",
    "# step_4.solution()"
   ]
  },
  {
   "cell_type": "markdown",
   "id": "48cc80b2",
   "metadata": {
    "papermill": {
     "duration": 0.007128,
     "end_time": "2022-12-28T11:40:50.229058",
     "exception": false,
     "start_time": "2022-12-28T11:40:50.221930",
     "status": "completed"
    },
    "tags": []
   },
   "source": [
    "## Think About Your Results\n",
    "\n",
    "Use the `head` method to compare the top few predictions to the actual home values (in `y`) for those same homes. Anything surprising?\n"
   ]
  },
  {
   "cell_type": "code",
   "execution_count": 13,
   "id": "366f5584",
   "metadata": {
    "execution": {
     "iopub.execute_input": "2022-12-28T11:40:50.246320Z",
     "iopub.status.busy": "2022-12-28T11:40:50.245765Z",
     "iopub.status.idle": "2022-12-28T11:40:50.254767Z",
     "shell.execute_reply": "2022-12-28T11:40:50.253035Z"
    },
    "papermill": {
     "duration": 0.021803,
     "end_time": "2022-12-28T11:40:50.258162",
     "exception": false,
     "start_time": "2022-12-28T11:40:50.236359",
     "status": "completed"
    },
    "tags": []
   },
   "outputs": [
    {
     "name": "stdout",
     "output_type": "stream",
     "text": [
      "0    208500\n",
      "1    181500\n",
      "2    223500\n",
      "3    140000\n",
      "4    250000\n",
      "Name: SalePrice, dtype: int64\n",
      "[208500. 181500. 223500. 140000. 250000.]\n"
     ]
    }
   ],
   "source": [
    "# You can write code in this cell\n",
    "print(y.head())\n",
    "print(predictions[:5])"
   ]
  },
  {
   "cell_type": "markdown",
   "id": "d5f91896",
   "metadata": {
    "papermill": {
     "duration": 0.006743,
     "end_time": "2022-12-28T11:40:50.271842",
     "exception": false,
     "start_time": "2022-12-28T11:40:50.265099",
     "status": "completed"
    },
    "tags": []
   },
   "source": [
    "It's natural to ask how accurate the model's predictions will be and how you can improve that. That will be you're next step.\n",
    "\n",
    "# Keep Going\n",
    "\n",
    "You are ready for **[Model Validation](https://www.kaggle.com/dansbecker/model-validation).**\n"
   ]
  },
  {
   "cell_type": "markdown",
   "id": "0d947f93",
   "metadata": {
    "papermill": {
     "duration": 0.006457,
     "end_time": "2022-12-28T11:40:50.285087",
     "exception": false,
     "start_time": "2022-12-28T11:40:50.278630",
     "status": "completed"
    },
    "tags": []
   },
   "source": [
    "---\n",
    "\n",
    "\n",
    "\n",
    "\n",
    "*Have questions or comments? Visit the [course discussion forum](https://www.kaggle.com/learn/intro-to-machine-learning/discussion) to chat with other learners.*"
   ]
  }
 ],
 "metadata": {
  "kernelspec": {
   "display_name": "Python 3",
   "language": "python",
   "name": "python3"
  },
  "language_info": {
   "codemirror_mode": {
    "name": "ipython",
    "version": 3
   },
   "file_extension": ".py",
   "mimetype": "text/x-python",
   "name": "python",
   "nbconvert_exporter": "python",
   "pygments_lexer": "ipython3",
   "version": "3.7.12"
  },
  "papermill": {
   "default_parameters": {},
   "duration": 12.385485,
   "end_time": "2022-12-28T11:40:51.320195",
   "environment_variables": {},
   "exception": null,
   "input_path": "__notebook__.ipynb",
   "output_path": "__notebook__.ipynb",
   "parameters": {},
   "start_time": "2022-12-28T11:40:38.934710",
   "version": "2.3.4"
  }
 },
 "nbformat": 4,
 "nbformat_minor": 5
}
